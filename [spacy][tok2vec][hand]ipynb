{
  "nbformat": 4,
  "nbformat_minor": 0,
  "metadata": {
    "colab": {
      "provenance": []
    },
    "kernelspec": {
      "name": "python3",
      "display_name": "Python 3"
    },
    "language_info": {
      "name": "python"
    },
    "accelerator": "GPU",
    "gpuClass": "standard"
  },
  "cells": [
    {
      "cell_type": "code",
      "source": [
        "import spacy"
      ],
      "metadata": {
        "id": "I-vym19B0RsC"
      },
      "execution_count": 1,
      "outputs": []
    },
    {
      "cell_type": "code",
      "source": [
        "!python -m spacy download de_core_news_lg"
      ],
      "metadata": {
        "id": "17po_vhl1UBM"
      },
      "execution_count": null,
      "outputs": []
    },
    {
      "cell_type": "code",
      "source": [
        "#create config file: https://spacy.io/usage/training#config\n",
        "# !python -m spacy init fill-config config_tok2vec.cfg config.cfg"
      ],
      "metadata": {
        "id": "lsCqUEtdCt51"
      },
      "execution_count": 3,
      "outputs": []
    },
    {
      "cell_type": "markdown",
      "source": [
        "On Hand Data"
      ],
      "metadata": {
        "id": "GukHhtQMDvOk"
      }
    },
    {
      "cell_type": "code",
      "source": [
        "!python -m spacy train config_hand.cfg --paths.train train_hand_23.spacy --paths.dev dev_23.spacy --output ./output --gpu-id 0"
      ],
      "metadata": {
        "colab": {
          "base_uri": "https://localhost:8080/"
        },
        "id": "VVwI5_NPA0Mv",
        "outputId": "5351ad27-44ca-4fb6-e7a5-3370f83bf354"
      },
      "execution_count": 6,
      "outputs": [
        {
          "output_type": "stream",
          "name": "stdout",
          "text": [
            "\u001b[38;5;4mℹ Saving to output directory: output\u001b[0m\n",
            "\u001b[38;5;4mℹ Using GPU: 0\u001b[0m\n",
            "\u001b[1m\n",
            "=========================== Initializing pipeline ===========================\u001b[0m\n",
            "[2023-01-08 06:13:46,752] [INFO] Set up nlp object from config\n",
            "INFO:spacy:Set up nlp object from config\n",
            "[2023-01-08 06:13:46,763] [INFO] Pipeline: ['tok2vec', 'ner']\n",
            "INFO:spacy:Pipeline: ['tok2vec', 'ner']\n",
            "[2023-01-08 06:13:46,766] [INFO] Created vocabulary\n",
            "INFO:spacy:Created vocabulary\n",
            "[2023-01-08 06:13:51,884] [INFO] Added vectors: de_core_news_lg\n",
            "INFO:spacy:Added vectors: de_core_news_lg\n",
            "tcmalloc: large alloc 1200005120 bytes == 0xa24e2000 @  0x7fb2ce0af2a4 0x7fb2c29efe09 0x7fb2c29eecdf 0x7fb2c29eb675 0x7fb2c29ebe2e 0x4f750a 0x4997a2 0x55cd91 0x5d8941 0x49abe4 0x7fb18b0e9d78 0x7fb18b0ec70e 0x7fb18b0f45a7 0x7fb18b0f7e85 0x5d8d8c 0x55dc1e 0x5d8868 0x4990ca 0x7fb18b0e9d78 0x7fb18b0ec70e 0x7fb18b0f3e4b 0x5d80be 0x5d8d8c 0x55ea20 0x55d078 0x5d8941 0x49abe4 0x4fe253 0x49abe4 0x55d078 0x5d8941\n",
            "tcmalloc: large alloc 1213743104 bytes == 0x7e8ac000 @  0x7fb2ce0af2a4 0x7fb2c29ed3a2 0x7fb2c29eecdf 0x7fb2c29eb675 0x7fb2c29ebe2e 0x4f750a 0x4997a2 0x55cd91 0x5d8941 0x49abe4 0x5d8868 0x4997c7 0x7fb18b0e9d78 0x7fb18b0ec70e 0x7fb18b0f3e4b 0x5d80be 0x5d8d8c 0x55ea20 0x55d078 0x5d8941 0x49abe4 0x4fe253 0x49abe4 0x55d078 0x5d8941 0x49abe4 0x55d078 0x5d8941 0x49abe4 0x55cd91 0x5d8941\n",
            "[2023-01-08 06:13:53,849] [INFO] Finished initializing nlp object\n",
            "INFO:spacy:Finished initializing nlp object\n",
            "[2023-01-08 06:14:00,500] [INFO] Initialized pipeline components: ['tok2vec', 'ner']\n",
            "INFO:spacy:Initialized pipeline components: ['tok2vec', 'ner']\n",
            "\u001b[38;5;2m✔ Initialized pipeline\u001b[0m\n",
            "\u001b[1m\n",
            "============================= Training pipeline =============================\u001b[0m\n",
            "\u001b[38;5;4mℹ Pipeline: ['tok2vec', 'ner']\u001b[0m\n",
            "\u001b[38;5;4mℹ Initial learn rate: 0.003361\u001b[0m\n",
            "\u001b[38;5;3m⚠ Saving logs is disabled because saveoutput.txt already exists.\u001b[0m\n",
            "E    #       LOSS TOK2VEC  LOSS NER  ENTS_F  ENTS_P  ENTS_R  SCORE \n",
            "---  ------  ------------  --------  ------  ------  ------  ------\n",
            "  0       0          0.00     30.83    0.80    0.51    1.75    0.01\n",
            "  0     200       4490.12   1195.96   35.05   71.80   23.18    0.35\n",
            "  0     400         79.59    802.68   42.69   52.38   36.03    0.43\n",
            "  0     600        273.92    813.97   23.28   41.63   16.16    0.23\n",
            "  0     800        815.45    889.63   54.23   57.81   51.06    0.54\n",
            "  0    1000       1388.25   1141.65   59.49   58.57   60.45    0.59\n",
            "  1    1200      64208.42   1655.18    1.05   95.00    0.53    0.01\n",
            "  1    1400       3469.77   1528.52   63.06   61.29   64.95    0.63\n",
            "  1    1600        880.51   1932.79   59.26   56.49   62.32    0.59\n",
            "  2    1800       5014.82   2127.99   56.66   58.24   55.17    0.57\n",
            "  3    2000        588.97   2581.55   62.81   67.12   59.02    0.63\n",
            "  4    2200      12150.99   3042.10   65.36   69.43   61.74    0.65\n",
            "\u001b[38;5;2m✔ Saved pipeline to output directory\u001b[0m\n",
            "output/model-last\n"
          ]
        }
      ]
    },
    {
      "cell_type": "code",
      "source": [
        "!python -m spacy evaluate output/model-best test_23.spacy --gpu-id 0"
      ],
      "metadata": {
        "colab": {
          "base_uri": "https://localhost:8080/"
        },
        "id": "uq9epiGzDNDF",
        "outputId": "84e8e054-2ef3-4de6-b0c4-3136f4d9bb06"
      },
      "execution_count": 7,
      "outputs": [
        {
          "output_type": "stream",
          "name": "stdout",
          "text": [
            "\u001b[38;5;4mℹ Using GPU: 0\u001b[0m\n",
            "\u001b[1m\n",
            "================================== Results ==================================\u001b[0m\n",
            "\n",
            "TOK     100.00\n",
            "NER P   69.10 \n",
            "NER R   61.71 \n",
            "NER F   65.20 \n",
            "SPEED   60666 \n",
            "\n",
            "\u001b[1m\n",
            "=============================== NER (per type) ===============================\u001b[0m\n",
            "\n",
            "          P       R       F\n",
            "ORG   69.10   61.71   65.20\n",
            "\n"
          ]
        }
      ]
    },
    {
      "cell_type": "markdown",
      "source": [
        "On All Data"
      ],
      "metadata": {
        "id": "fE1H6rMaDy7D"
      }
    },
    {
      "cell_type": "code",
      "source": [
        "!python -m spacy train config_all.cfg --paths.train train_23.spacy --paths.dev dev_23.spacy --output ./output_all --gpu-id 0"
      ],
      "metadata": {
        "colab": {
          "base_uri": "https://localhost:8080/"
        },
        "id": "cERtNiieDx3A",
        "outputId": "5b85cb88-70ea-4b53-dbf8-361bcc615bb5"
      },
      "execution_count": 8,
      "outputs": [
        {
          "output_type": "stream",
          "name": "stdout",
          "text": [
            "\u001b[38;5;2m✔ Created output directory: output_all\u001b[0m\n",
            "\u001b[38;5;4mℹ Saving to output directory: output_all\u001b[0m\n",
            "\u001b[38;5;4mℹ Using GPU: 0\u001b[0m\n",
            "\u001b[1m\n",
            "=========================== Initializing pipeline ===========================\u001b[0m\n",
            "[2023-01-08 06:27:14,106] [INFO] Set up nlp object from config\n",
            "INFO:spacy:Set up nlp object from config\n",
            "[2023-01-08 06:27:14,117] [INFO] Pipeline: ['tok2vec', 'ner']\n",
            "INFO:spacy:Pipeline: ['tok2vec', 'ner']\n",
            "[2023-01-08 06:27:14,120] [INFO] Created vocabulary\n",
            "INFO:spacy:Created vocabulary\n",
            "[2023-01-08 06:27:19,305] [INFO] Added vectors: de_core_news_lg\n",
            "INFO:spacy:Added vectors: de_core_news_lg\n",
            "tcmalloc: large alloc 1200005120 bytes == 0xa3038000 @  0x7fee2f1252a4 0x7fee23a65e09 0x7fee23a64cdf 0x7fee23a61675 0x7fee23a61e2e 0x4f750a 0x4997a2 0x55cd91 0x5d8941 0x49abe4 0x7fecec163d78 0x7fecec16670e 0x7fecec16e5a7 0x7fecec171e85 0x5d8d8c 0x55dc1e 0x5d8868 0x4990ca 0x7fecec163d78 0x7fecec16670e 0x7fecec16de4b 0x5d80be 0x5d8d8c 0x55ea20 0x55d078 0x5d8941 0x49abe4 0x4fe253 0x49abe4 0x55d078 0x5d8941\n",
            "tcmalloc: large alloc 1213743104 bytes == 0x7f402000 @  0x7fee2f1252a4 0x7fee23a633a2 0x7fee23a64cdf 0x7fee23a61675 0x7fee23a61e2e 0x4f750a 0x4997a2 0x55cd91 0x5d8941 0x49abe4 0x5d8868 0x4997c7 0x7fecec163d78 0x7fecec16670e 0x7fecec16de4b 0x5d80be 0x5d8d8c 0x55ea20 0x55d078 0x5d8941 0x49abe4 0x4fe253 0x49abe4 0x55d078 0x5d8941 0x49abe4 0x55d078 0x5d8941 0x49abe4 0x55cd91 0x5d8941\n",
            "[2023-01-08 06:27:21,347] [INFO] Finished initializing nlp object\n",
            "INFO:spacy:Finished initializing nlp object\n",
            "[2023-01-08 06:27:35,409] [INFO] Initialized pipeline components: ['tok2vec', 'ner']\n",
            "INFO:spacy:Initialized pipeline components: ['tok2vec', 'ner']\n",
            "\u001b[38;5;2m✔ Initialized pipeline\u001b[0m\n",
            "\u001b[1m\n",
            "============================= Training pipeline =============================\u001b[0m\n",
            "\u001b[38;5;4mℹ Pipeline: ['tok2vec', 'ner']\u001b[0m\n",
            "\u001b[38;5;4mℹ Initial learn rate: 0.0015400000000000001\u001b[0m\n",
            "\u001b[38;5;4mℹ Saving results to saveoutput_all.txt\u001b[0m\n",
            "E    #       LOSS TOK2VEC  LOSS NER  ENTS_F  ENTS_P  ENTS_R  SCORE \n",
            "---  ------  ------------  --------  ------  ------  ------  ------\n",
            "  0       0          0.00     35.50    2.06    1.12   13.51    0.02\n",
            "  0     200         17.50    854.12   45.20   43.62   46.91    0.45\n",
            "  0     400         23.36    533.73   57.53   66.51   50.69    0.58\n",
            "  0     600       1262.69    752.01   51.28   59.55   45.02    0.51\n",
            "  0     800         33.58    756.04   58.09   53.78   63.15    0.58\n",
            "  0    1000         51.35    825.36   62.64   62.01   63.28    0.63\n",
            "  0    1200         96.68   1104.92   52.85   65.57   44.26    0.53\n",
            "  0    1400       4595.37   1368.04   59.09   59.75   58.45    0.59\n",
            "  0    1600        372.16   1536.59   63.82   65.72   62.03    0.64\n",
            "  0    1800        177.17   1875.43   66.36   64.16   68.71    0.66\n",
            "  0    2000        322.54   2253.19   68.09   69.90   66.36    0.68\n",
            "  1    2200        996.74   2578.29   69.36   68.82   69.90    0.69\n",
            "  1    2400       6460.54   3019.30   69.82   72.76   67.10    0.70\n",
            "  1    2600       2120.83   2963.12   71.05   67.03   75.58    0.71\n",
            "  1    2800       6557.01   2868.44   70.01   74.92   65.71    0.70\n",
            "  2    3000      59943.02   2850.33   72.23   72.18   72.28    0.72\n",
            "  2    3200       3713.05   2662.02   74.68   76.05   73.36    0.75\n",
            "  2    3400        295.30   2564.10   74.92   78.58   71.60    0.75\n",
            "  3    3600      10105.13   2422.24   77.00   81.72   72.80    0.77\n",
            "  3    3800        464.04   2302.68   78.21   81.28   75.36    0.78\n",
            "  3    4000        472.21   2237.80   78.47   78.90   78.04    0.78\n",
            "  4    4200        407.05   2113.25   78.40   77.13   79.72    0.78\n",
            "  4    4400       1337.67   2055.00   80.72   80.60   80.83    0.81\n",
            "  4    4600       4663.41   2060.98   81.26   84.08   78.62    0.81\n",
            "  4    4800        337.46   1978.45   81.67   80.74   82.62    0.82\n",
            "\u001b[38;5;2m✔ Saved pipeline to output directory\u001b[0m\n",
            "output_all/model-last\n"
          ]
        }
      ]
    },
    {
      "cell_type": "code",
      "source": [
        "!python -m spacy evaluate output_all/model-best test_23.spacy --gpu-id 0"
      ],
      "metadata": {
        "colab": {
          "base_uri": "https://localhost:8080/"
        },
        "id": "w1oEUeoXD7XO",
        "outputId": "cc0bddc6-0b9e-48c1-9070-b4409a514d2e"
      },
      "execution_count": 9,
      "outputs": [
        {
          "output_type": "stream",
          "name": "stdout",
          "text": [
            "\u001b[38;5;4mℹ Using GPU: 0\u001b[0m\n",
            "\u001b[1m\n",
            "================================== Results ==================================\u001b[0m\n",
            "\n",
            "TOK     100.00\n",
            "NER P   80.48 \n",
            "NER R   82.55 \n",
            "NER F   81.50 \n",
            "SPEED   68879 \n",
            "\n",
            "\u001b[1m\n",
            "=============================== NER (per type) ===============================\u001b[0m\n",
            "\n",
            "          P       R       F\n",
            "ORG   80.48   82.55   81.50\n",
            "\n"
          ]
        }
      ]
    }
  ]
}
