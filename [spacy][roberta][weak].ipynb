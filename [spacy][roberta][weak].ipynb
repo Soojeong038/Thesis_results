{
  "nbformat": 4,
  "nbformat_minor": 0,
  "metadata": {
    "colab": {
      "provenance": []
    },
    "kernelspec": {
      "name": "python3",
      "display_name": "Python 3"
    },
    "language_info": {
      "name": "python"
    },
    "accelerator": "GPU",
    "gpuClass": "standard"
  },
  "cells": [
    {
      "cell_type": "code",
      "execution_count": 7,
      "metadata": {
        "colab": {
          "base_uri": "https://localhost:8080/"
        },
        "id": "kbrtFKEICpn-",
        "outputId": "c9de2591-2713-4e13-bf53-5e0d541f5f99"
      },
      "outputs": [
        {
          "output_type": "stream",
          "name": "stdout",
          "text": [
            "Looking in indexes: https://pypi.org/simple, https://us-python.pkg.dev/colab-wheels/public/simple/\n",
            "Requirement already satisfied: spacy[transformers] in /usr/local/lib/python3.8/dist-packages (3.4.4)\n",
            "Requirement already satisfied: murmurhash<1.1.0,>=0.28.0 in /usr/local/lib/python3.8/dist-packages (from spacy[transformers]) (1.0.9)\n",
            "Requirement already satisfied: spacy-loggers<2.0.0,>=1.0.0 in /usr/local/lib/python3.8/dist-packages (from spacy[transformers]) (1.0.4)\n",
            "Requirement already satisfied: packaging>=20.0 in /usr/local/lib/python3.8/dist-packages (from spacy[transformers]) (21.3)\n",
            "Requirement already satisfied: langcodes<4.0.0,>=3.2.0 in /usr/local/lib/python3.8/dist-packages (from spacy[transformers]) (3.3.0)\n",
            "Requirement already satisfied: jinja2 in /usr/local/lib/python3.8/dist-packages (from spacy[transformers]) (2.11.3)\n",
            "Requirement already satisfied: tqdm<5.0.0,>=4.38.0 in /usr/local/lib/python3.8/dist-packages (from spacy[transformers]) (4.64.1)\n",
            "Requirement already satisfied: srsly<3.0.0,>=2.4.3 in /usr/local/lib/python3.8/dist-packages (from spacy[transformers]) (2.4.5)\n",
            "Requirement already satisfied: preshed<3.1.0,>=3.0.2 in /usr/local/lib/python3.8/dist-packages (from spacy[transformers]) (3.0.8)\n",
            "Requirement already satisfied: catalogue<2.1.0,>=2.0.6 in /usr/local/lib/python3.8/dist-packages (from spacy[transformers]) (2.0.8)\n",
            "Requirement already satisfied: pathy>=0.3.5 in /usr/local/lib/python3.8/dist-packages (from spacy[transformers]) (0.10.1)\n",
            "Requirement already satisfied: cymem<2.1.0,>=2.0.2 in /usr/local/lib/python3.8/dist-packages (from spacy[transformers]) (2.0.7)\n",
            "Requirement already satisfied: pydantic!=1.8,!=1.8.1,<1.11.0,>=1.7.4 in /usr/local/lib/python3.8/dist-packages (from spacy[transformers]) (1.10.4)\n",
            "Requirement already satisfied: setuptools in /usr/local/lib/python3.8/dist-packages (from spacy[transformers]) (57.4.0)\n",
            "Requirement already satisfied: numpy>=1.15.0 in /usr/local/lib/python3.8/dist-packages (from spacy[transformers]) (1.21.6)\n",
            "Requirement already satisfied: smart-open<7.0.0,>=5.2.1 in /usr/local/lib/python3.8/dist-packages (from spacy[transformers]) (6.3.0)\n",
            "Requirement already satisfied: typer<0.8.0,>=0.3.0 in /usr/local/lib/python3.8/dist-packages (from spacy[transformers]) (0.7.0)\n",
            "Requirement already satisfied: spacy-legacy<3.1.0,>=3.0.10 in /usr/local/lib/python3.8/dist-packages (from spacy[transformers]) (3.0.11)\n",
            "Requirement already satisfied: thinc<8.2.0,>=8.1.0 in /usr/local/lib/python3.8/dist-packages (from spacy[transformers]) (8.1.6)\n",
            "Requirement already satisfied: requests<3.0.0,>=2.13.0 in /usr/local/lib/python3.8/dist-packages (from spacy[transformers]) (2.25.1)\n",
            "Requirement already satisfied: wasabi<1.1.0,>=0.9.1 in /usr/local/lib/python3.8/dist-packages (from spacy[transformers]) (0.10.1)\n",
            "Requirement already satisfied: spacy-transformers<1.2.0,>=1.1.2 in /usr/local/lib/python3.8/dist-packages (from spacy[transformers]) (1.1.9)\n",
            "Requirement already satisfied: pyparsing!=3.0.5,>=2.0.2 in /usr/local/lib/python3.8/dist-packages (from packaging>=20.0->spacy[transformers]) (3.0.9)\n",
            "Requirement already satisfied: typing-extensions>=4.2.0 in /usr/local/lib/python3.8/dist-packages (from pydantic!=1.8,!=1.8.1,<1.11.0,>=1.7.4->spacy[transformers]) (4.4.0)\n",
            "Requirement already satisfied: urllib3<1.27,>=1.21.1 in /usr/local/lib/python3.8/dist-packages (from requests<3.0.0,>=2.13.0->spacy[transformers]) (1.24.3)\n",
            "Requirement already satisfied: chardet<5,>=3.0.2 in /usr/local/lib/python3.8/dist-packages (from requests<3.0.0,>=2.13.0->spacy[transformers]) (4.0.0)\n",
            "Requirement already satisfied: idna<3,>=2.5 in /usr/local/lib/python3.8/dist-packages (from requests<3.0.0,>=2.13.0->spacy[transformers]) (2.10)\n",
            "Requirement already satisfied: certifi>=2017.4.17 in /usr/local/lib/python3.8/dist-packages (from requests<3.0.0,>=2.13.0->spacy[transformers]) (2022.12.7)\n",
            "Requirement already satisfied: transformers<4.26.0,>=3.4.0 in /usr/local/lib/python3.8/dist-packages (from spacy-transformers<1.2.0,>=1.1.2->spacy[transformers]) (4.25.1)\n",
            "Requirement already satisfied: torch>=1.6.0 in /usr/local/lib/python3.8/dist-packages (from spacy-transformers<1.2.0,>=1.1.2->spacy[transformers]) (1.13.1+cu116)\n",
            "Requirement already satisfied: spacy-alignments<1.0.0,>=0.7.2 in /usr/local/lib/python3.8/dist-packages (from spacy-transformers<1.2.0,>=1.1.2->spacy[transformers]) (0.9.0)\n",
            "Requirement already satisfied: blis<0.8.0,>=0.7.8 in /usr/local/lib/python3.8/dist-packages (from thinc<8.2.0,>=8.1.0->spacy[transformers]) (0.7.9)\n",
            "Requirement already satisfied: confection<1.0.0,>=0.0.1 in /usr/local/lib/python3.8/dist-packages (from thinc<8.2.0,>=8.1.0->spacy[transformers]) (0.0.3)\n",
            "Requirement already satisfied: click<9.0.0,>=7.1.1 in /usr/local/lib/python3.8/dist-packages (from typer<0.8.0,>=0.3.0->spacy[transformers]) (7.1.2)\n",
            "Requirement already satisfied: MarkupSafe>=0.23 in /usr/local/lib/python3.8/dist-packages (from jinja2->spacy[transformers]) (2.0.1)\n",
            "Requirement already satisfied: pyyaml>=5.1 in /usr/local/lib/python3.8/dist-packages (from transformers<4.26.0,>=3.4.0->spacy-transformers<1.2.0,>=1.1.2->spacy[transformers]) (6.0)\n",
            "Requirement already satisfied: filelock in /usr/local/lib/python3.8/dist-packages (from transformers<4.26.0,>=3.4.0->spacy-transformers<1.2.0,>=1.1.2->spacy[transformers]) (3.9.0)\n",
            "Requirement already satisfied: tokenizers!=0.11.3,<0.14,>=0.11.1 in /usr/local/lib/python3.8/dist-packages (from transformers<4.26.0,>=3.4.0->spacy-transformers<1.2.0,>=1.1.2->spacy[transformers]) (0.13.2)\n",
            "Requirement already satisfied: huggingface-hub<1.0,>=0.10.0 in /usr/local/lib/python3.8/dist-packages (from transformers<4.26.0,>=3.4.0->spacy-transformers<1.2.0,>=1.1.2->spacy[transformers]) (0.11.1)\n",
            "Requirement already satisfied: regex!=2019.12.17 in /usr/local/lib/python3.8/dist-packages (from transformers<4.26.0,>=3.4.0->spacy-transformers<1.2.0,>=1.1.2->spacy[transformers]) (2022.6.2)\n"
          ]
        }
      ],
      "source": [
        "!pip install spacy[transformers]\n",
        "import spacy_transformers"
      ]
    },
    {
      "cell_type": "code",
      "source": [
        "#create config file: https://spacy.io/usage/training#config\n",
        "# !python -m spacy init fill-config base_config_roberta.cfg config_roberta.cfg"
      ],
      "metadata": {
        "id": "lsCqUEtdCt51"
      },
      "execution_count": 8,
      "outputs": []
    },
    {
      "cell_type": "code",
      "source": [
        "!python -m spacy train config_roberta_onlyweak.cfg --gpu-id 0 --paths.train train_onlyweak.spacy --paths.dev dev_23.spacy --output ./output"
      ],
      "metadata": {
        "colab": {
          "base_uri": "https://localhost:8080/"
        },
        "id": "l9o_oyNhh6Hu",
        "outputId": "7b46ca09-fdb1-42c9-ee7b-35fb36bb8ee8"
      },
      "execution_count": 9,
      "outputs": [
        {
          "output_type": "stream",
          "name": "stdout",
          "text": [
            "\u001b[38;5;4mℹ Saving to output directory: output\u001b[0m\n",
            "\u001b[38;5;4mℹ Using GPU: 0\u001b[0m\n",
            "\u001b[1m\n",
            "=========================== Initializing pipeline ===========================\u001b[0m\n",
            "[2023-01-23 06:30:47,698] [INFO] Set up nlp object from config\n",
            "INFO:spacy:Set up nlp object from config\n",
            "[2023-01-23 06:30:47,710] [INFO] Pipeline: ['transformer', 'ner']\n",
            "INFO:spacy:Pipeline: ['transformer', 'ner']\n",
            "[2023-01-23 06:30:47,713] [INFO] Created vocabulary\n",
            "INFO:spacy:Created vocabulary\n",
            "[2023-01-23 06:30:47,714] [INFO] Finished initializing nlp object\n",
            "INFO:spacy:Finished initializing nlp object\n",
            "Some weights of the model checkpoint at xlm-roberta-base were not used when initializing XLMRobertaModel: ['lm_head.dense.bias', 'lm_head.layer_norm.weight', 'lm_head.bias', 'lm_head.dense.weight', 'lm_head.layer_norm.bias', 'lm_head.decoder.weight']\n",
            "- This IS expected if you are initializing XLMRobertaModel from the checkpoint of a model trained on another task or with another architecture (e.g. initializing a BertForSequenceClassification model from a BertForPreTraining model).\n",
            "- This IS NOT expected if you are initializing XLMRobertaModel from the checkpoint of a model that you expect to be exactly identical (initializing a BertForSequenceClassification model from a BertForSequenceClassification model).\n",
            "[2023-01-23 06:31:13,352] [INFO] Initialized pipeline components: ['transformer', 'ner']\n",
            "INFO:spacy:Initialized pipeline components: ['transformer', 'ner']\n",
            "\u001b[38;5;2m✔ Initialized pipeline\u001b[0m\n",
            "\u001b[1m\n",
            "============================= Training pipeline =============================\u001b[0m\n",
            "\u001b[38;5;4mℹ Pipeline: ['transformer', 'ner']\u001b[0m\n",
            "\u001b[38;5;4mℹ Initial learn rate: 0.0\u001b[0m\n",
            "\u001b[38;5;4mℹ Saving results to saveoutput_roberta_all.txt\u001b[0m\n",
            "E    #       LOSS TRANS...  LOSS NER  ENTS_F  ENTS_P  ENTS_R  SCORE \n",
            "---  ------  -------------  --------  ------  ------  ------  ------\n",
            "tcmalloc: large alloc 1200103424 bytes == 0x16afb8000 @  0x7f9d54153680 0x7f9d54173da2 0x5f714c 0x64d800 0x527022 0x5c4520 0x5f6eb7 0x7f9cceec5795 0x7f9ccf01deeb 0x7f9ca83edc45 0x7f9ca83e7728 0x7f9ca83ef2c9 0x7f9ccf0319ca 0x7f9ccec18f00 0x5f5b39 0x5f6706 0x50ba83 0x570b82 0x569d8a 0x5f60c3 0x56bab6 0x569d8a 0x5f60c3 0x570b82 0x5f5ee6 0x56bbe1 0x569d8a 0x5f60c3 0x56bab6 0x5f5ee6 0x56bbe1\n",
            "tcmalloc: large alloc 1500135424 bytes == 0xffc4e000 @  0x7f9d54153680 0x7f9d54173da2 0x5f714c 0x64d800 0x527022 0x5c4520 0x5f6eb7 0x7f9cceec5795 0x7f9ccf01deeb 0x7f9ca83edc45 0x7f9ca83e7728 0x7f9ca83ef2c9 0x7f9ccf0319ca 0x7f9ccec18f00 0x5f5b39 0x5f6706 0x50ba83 0x570b82 0x569d8a 0x5f60c3 0x56bab6 0x569d8a 0x5f60c3 0x570b82 0x5f5ee6 0x56bbe1 0x569d8a 0x5f60c3 0x56bab6 0x5f5ee6 0x56bbe1\n",
            "tcmalloc: large alloc 2224521216 bytes == 0x7f98d5688000 @  0x7f9d54153680 0x7f9d54173bdd 0x7f9d4b31e3a2 0x7f9d4b31fcdf 0x7f9d4b31c675 0x7f9d4b31ce2e 0x504866 0x56bbe1 0x569d8a 0x5f60c3 0x56cc92 0x5f5ee6 0x570b82 0x5f5ee6 0x56bbe1 0x569d8a 0x5f60c3 0x56bab6 0x5f5ee6 0x56bbe1 0x5f5ee6 0x56bbe1 0x5f5ee6 0x56bbe1 0x569d8a 0x5f60c3 0x56bab6 0x5f5ee6 0x570b82 0x569d8a 0x50b3a0\n",
            "tcmalloc: large alloc 2268823552 bytes == 0xc9d3c000 @  0x7f9d54153680 0x7f9d54173bdd 0x7f9d4b31e3a2 0x7f9d4b32023a 0x7f9d4b32023a 0x7f9d4b31fcdf 0x7f9d4b31c675 0x7f9d4b31ce2e 0x504866 0x56bbe1 0x569d8a 0x5f60c3 0x56cc92 0x5f5ee6 0x570b82 0x5f5ee6 0x56bbe1 0x5f5ee6 0x56bbe1 0x569d8a 0x5f60c3 0x56bab6 0x5f5ee6 0x570b82 0x569d8a 0x50b3a0 0x56cc92 0x569d8a 0x5f60c3 0x56bab6 0x5f5ee6\n",
            "  0       0         467.89    868.57    0.00    0.00    0.00    0.00\n",
            "tcmalloc: large alloc 2224521216 bytes == 0x1233c6000 @  0x7f9d54153680 0x7f9d54173bdd 0x7f9d4b31e3a2 0x7f9d4b31fcdf 0x7f9d4b31c675 0x7f9d4b31ce2e 0x504866 0x56bbe1 0x569d8a 0x5f60c3 0x56cc92 0x5f5ee6 0x570b82 0x5f5ee6 0x56bbe1 0x569d8a 0x5f60c3 0x56bab6 0x5f5ee6 0x56bbe1 0x5f5ee6 0x56bbe1 0x5f5ee6 0x56bbe1 0x569d8a 0x5f60c3 0x56bab6 0x5f5ee6 0x570b82 0x569d8a 0x50b3a0\n",
            "tcmalloc: large alloc 2268823552 bytes == 0xc9d22000 @  0x7f9d54153680 0x7f9d54173bdd 0x7f9d4b31e3a2 0x7f9d4b32023a 0x7f9d4b32023a 0x7f9d4b31fcdf 0x7f9d4b31c675 0x7f9d4b31ce2e 0x504866 0x56bbe1 0x569d8a 0x5f60c3 0x56cc92 0x5f5ee6 0x570b82 0x5f5ee6 0x56bbe1 0x5f5ee6 0x56bbe1 0x569d8a 0x5f60c3 0x56bab6 0x5f5ee6 0x570b82 0x569d8a 0x50b3a0 0x56cc92 0x569d8a 0x5f60c3 0x56bab6 0x5f5ee6\n",
            "  0     200       19276.21  33026.76   58.56   55.90   61.49    0.59\n",
            "tcmalloc: large alloc 2224521216 bytes == 0x1233c6000 @  0x7f9d54153680 0x7f9d54173bdd 0x7f9d4b31e3a2 0x7f9d4b31fcdf 0x7f9d4b31c675 0x7f9d4b31ce2e 0x504866 0x56bbe1 0x569d8a 0x5f60c3 0x56cc92 0x5f5ee6 0x570b82 0x5f5ee6 0x56bbe1 0x569d8a 0x5f60c3 0x56bab6 0x5f5ee6 0x56bbe1 0x5f5ee6 0x56bbe1 0x5f5ee6 0x56bbe1 0x569d8a 0x5f60c3 0x56bab6 0x5f5ee6 0x570b82 0x569d8a 0x50b3a0\n",
            "  0     400        1329.62   2768.42   64.40   61.69   67.35    0.64\n",
            "  0     600         980.94   2171.63   65.95   63.17   68.97    0.66\n",
            "  0     800         934.09   1900.98   65.07   63.34   66.90    0.65\n",
            "  1    1000         804.64   1728.83   67.40   66.19   68.65    0.67\n",
            "  1    1200         730.25   1639.25   68.35   67.57   69.15    0.68\n",
            "  1    1400         644.44   1487.62   68.35   67.57   69.15    0.68\n",
            "  1    1600         682.65   1528.86   68.35   67.57   69.15    0.68\n",
            "  2    1800         679.85   1540.10   68.35   67.57   69.15    0.68\n",
            "\u001b[38;5;2m✔ Saved pipeline to output directory\u001b[0m\n",
            "output/model-last\n"
          ]
        }
      ]
    },
    {
      "cell_type": "code",
      "source": [
        "!python -m spacy evaluate output/model-best test_23.spacy --gpu-id 0"
      ],
      "metadata": {
        "colab": {
          "base_uri": "https://localhost:8080/"
        },
        "id": "rIGa0T4-qSY9",
        "outputId": "ded01497-b670-4fbb-dcdf-b72068f95ede"
      },
      "execution_count": 10,
      "outputs": [
        {
          "output_type": "stream",
          "name": "stdout",
          "text": [
            "\u001b[38;5;4mℹ Using GPU: 0\u001b[0m\n",
            "tcmalloc: large alloc 1134411776 bytes == 0x731c2000 @  0x7ff6d3000680 0x7ff6d3021824 0x5f97c1 0x649901 0x5c43c6 0x4f327e 0x64e618 0x505163 0x56bbe1 0x569d8a 0x5f60c3 0x56bab6 0x5f5ee6 0x570b82 0x569d8a 0x50b3a0 0x56cc92 0x569d8a 0x5f60c3 0x56bab6 0x5f5ee6 0x570b82 0x569d8a 0x50b3a0 0x56cc92 0x569d8a 0x5f60c3 0x5f52b2 0x56d2bc 0x569d8a 0x5f60c3\n",
            "\u001b[1m\n",
            "================================== Results ==================================\u001b[0m\n",
            "\n",
            "TOK     100.00\n",
            "NER P   67.14 \n",
            "NER R   68.85 \n",
            "NER F   67.98 \n",
            "SPEED   4853  \n",
            "\n",
            "\u001b[1m\n",
            "=============================== NER (per type) ===============================\u001b[0m\n",
            "\n",
            "          P       R       F\n",
            "ORG   67.14   68.85   67.98\n",
            "\n"
          ]
        }
      ]
    }
  ]
}