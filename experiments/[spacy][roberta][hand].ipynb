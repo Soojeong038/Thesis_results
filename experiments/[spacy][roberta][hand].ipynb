{
  "cells": [
    {
      "cell_type": "code",
      "execution_count": 1,
      "metadata": {
        "colab": {
          "base_uri": "https://localhost:8080/"
        },
        "id": "kbrtFKEICpn-",
        "outputId": "e3a357ea-8064-4c40-dfe7-1d9aba9a505a"
      },
      "outputs": [
        {
          "name": "stdout",
          "output_type": "stream",
          "text": [
            "Looking in indexes: https://pypi.org/simple, https://us-python.pkg.dev/colab-wheels/public/simple/\n",
            "Requirement already satisfied: spacy[transformers] in /usr/local/lib/python3.7/dist-packages (3.4.2)\n",
            "Requirement already satisfied: srsly<3.0.0,>=2.4.3 in /usr/local/lib/python3.7/dist-packages (from spacy[transformers]) (2.4.5)\n",
            "Requirement already satisfied: thinc<8.2.0,>=8.1.0 in /usr/local/lib/python3.7/dist-packages (from spacy[transformers]) (8.1.5)\n",
            "Requirement already satisfied: typer<0.5.0,>=0.3.0 in /usr/local/lib/python3.7/dist-packages (from spacy[transformers]) (0.4.2)\n",
            "Requirement already satisfied: pydantic!=1.8,!=1.8.1,<1.11.0,>=1.7.4 in /usr/local/lib/python3.7/dist-packages (from spacy[transformers]) (1.10.2)\n",
            "Requirement already satisfied: pathy>=0.3.5 in /usr/local/lib/python3.7/dist-packages (from spacy[transformers]) (0.6.2)\n",
            "Requirement already satisfied: spacy-legacy<3.1.0,>=3.0.10 in /usr/local/lib/python3.7/dist-packages (from spacy[transformers]) (3.0.10)\n",
            "Requirement already satisfied: wasabi<1.1.0,>=0.9.1 in /usr/local/lib/python3.7/dist-packages (from spacy[transformers]) (0.10.1)\n",
            "Requirement already satisfied: catalogue<2.1.0,>=2.0.6 in /usr/local/lib/python3.7/dist-packages (from spacy[transformers]) (2.0.8)\n",
            "Requirement already satisfied: jinja2 in /usr/local/lib/python3.7/dist-packages (from spacy[transformers]) (2.11.3)\n",
            "Requirement already satisfied: spacy-loggers<2.0.0,>=1.0.0 in /usr/local/lib/python3.7/dist-packages (from spacy[transformers]) (1.0.3)\n",
            "Requirement already satisfied: murmurhash<1.1.0,>=0.28.0 in /usr/local/lib/python3.7/dist-packages (from spacy[transformers]) (1.0.9)\n",
            "Requirement already satisfied: numpy>=1.15.0 in /usr/local/lib/python3.7/dist-packages (from spacy[transformers]) (1.21.6)\n",
            "Requirement already satisfied: preshed<3.1.0,>=3.0.2 in /usr/local/lib/python3.7/dist-packages (from spacy[transformers]) (3.0.8)\n",
            "Requirement already satisfied: tqdm<5.0.0,>=4.38.0 in /usr/local/lib/python3.7/dist-packages (from spacy[transformers]) (4.64.1)\n",
            "Requirement already satisfied: cymem<2.1.0,>=2.0.2 in /usr/local/lib/python3.7/dist-packages (from spacy[transformers]) (2.0.7)\n",
            "Requirement already satisfied: typing-extensions<4.2.0,>=3.7.4 in /usr/local/lib/python3.7/dist-packages (from spacy[transformers]) (4.1.1)\n",
            "Requirement already satisfied: setuptools in /usr/local/lib/python3.7/dist-packages (from spacy[transformers]) (57.4.0)\n",
            "Requirement already satisfied: langcodes<4.0.0,>=3.2.0 in /usr/local/lib/python3.7/dist-packages (from spacy[transformers]) (3.3.0)\n",
            "Requirement already satisfied: requests<3.0.0,>=2.13.0 in /usr/local/lib/python3.7/dist-packages (from spacy[transformers]) (2.23.0)\n",
            "Requirement already satisfied: packaging>=20.0 in /usr/local/lib/python3.7/dist-packages (from spacy[transformers]) (21.3)\n",
            "Collecting spacy-transformers<1.2.0,>=1.1.2\n",
            "  Downloading spacy_transformers-1.1.8-py2.py3-none-any.whl (53 kB)\n",
            "\u001b[K     |████████████████████████████████| 53 kB 2.1 MB/s \n",
            "\u001b[?25hRequirement already satisfied: zipp>=0.5 in /usr/local/lib/python3.7/dist-packages (from catalogue<2.1.0,>=2.0.6->spacy[transformers]) (3.10.0)\n",
            "Requirement already satisfied: pyparsing!=3.0.5,>=2.0.2 in /usr/local/lib/python3.7/dist-packages (from packaging>=20.0->spacy[transformers]) (3.0.9)\n",
            "Requirement already satisfied: smart-open<6.0.0,>=5.2.1 in /usr/local/lib/python3.7/dist-packages (from pathy>=0.3.5->spacy[transformers]) (5.2.1)\n",
            "Requirement already satisfied: idna<3,>=2.5 in /usr/local/lib/python3.7/dist-packages (from requests<3.0.0,>=2.13.0->spacy[transformers]) (2.10)\n",
            "Requirement already satisfied: certifi>=2017.4.17 in /usr/local/lib/python3.7/dist-packages (from requests<3.0.0,>=2.13.0->spacy[transformers]) (2022.9.24)\n",
            "Requirement already satisfied: urllib3!=1.25.0,!=1.25.1,<1.26,>=1.21.1 in /usr/local/lib/python3.7/dist-packages (from requests<3.0.0,>=2.13.0->spacy[transformers]) (1.24.3)\n",
            "Requirement already satisfied: chardet<4,>=3.0.2 in /usr/local/lib/python3.7/dist-packages (from requests<3.0.0,>=2.13.0->spacy[transformers]) (3.0.4)\n",
            "Collecting transformers<4.22.0,>=3.4.0\n",
            "  Downloading transformers-4.21.3-py3-none-any.whl (4.7 MB)\n",
            "\u001b[K     |████████████████████████████████| 4.7 MB 26.8 MB/s \n",
            "\u001b[?25hCollecting spacy-alignments<1.0.0,>=0.7.2\n",
            "  Downloading spacy_alignments-0.8.6-cp37-cp37m-manylinux_2_17_x86_64.manylinux2014_x86_64.whl (1.1 MB)\n",
            "\u001b[K     |████████████████████████████████| 1.1 MB 53.1 MB/s \n",
            "\u001b[?25hRequirement already satisfied: torch>=1.6.0 in /usr/local/lib/python3.7/dist-packages (from spacy-transformers<1.2.0,>=1.1.2->spacy[transformers]) (1.12.1+cu113)\n",
            "Requirement already satisfied: confection<1.0.0,>=0.0.1 in /usr/local/lib/python3.7/dist-packages (from thinc<8.2.0,>=8.1.0->spacy[transformers]) (0.0.3)\n",
            "Requirement already satisfied: blis<0.8.0,>=0.7.8 in /usr/local/lib/python3.7/dist-packages (from thinc<8.2.0,>=8.1.0->spacy[transformers]) (0.7.9)\n",
            "Requirement already satisfied: regex!=2019.12.17 in /usr/local/lib/python3.7/dist-packages (from transformers<4.22.0,>=3.4.0->spacy-transformers<1.2.0,>=1.1.2->spacy[transformers]) (2022.6.2)\n",
            "Requirement already satisfied: filelock in /usr/local/lib/python3.7/dist-packages (from transformers<4.22.0,>=3.4.0->spacy-transformers<1.2.0,>=1.1.2->spacy[transformers]) (3.8.0)\n",
            "Collecting tokenizers!=0.11.3,<0.13,>=0.11.1\n",
            "  Downloading tokenizers-0.12.1-cp37-cp37m-manylinux_2_12_x86_64.manylinux2010_x86_64.whl (6.6 MB)\n",
            "\u001b[K     |████████████████████████████████| 6.6 MB 56.7 MB/s \n",
            "\u001b[?25hRequirement already satisfied: importlib-metadata in /usr/local/lib/python3.7/dist-packages (from transformers<4.22.0,>=3.4.0->spacy-transformers<1.2.0,>=1.1.2->spacy[transformers]) (4.13.0)\n",
            "Requirement already satisfied: pyyaml>=5.1 in /usr/local/lib/python3.7/dist-packages (from transformers<4.22.0,>=3.4.0->spacy-transformers<1.2.0,>=1.1.2->spacy[transformers]) (6.0)\n",
            "Collecting huggingface-hub<1.0,>=0.1.0\n",
            "  Downloading huggingface_hub-0.11.0-py3-none-any.whl (182 kB)\n",
            "\u001b[K     |████████████████████████████████| 182 kB 72.3 MB/s \n",
            "\u001b[?25hRequirement already satisfied: click<9.0.0,>=7.1.1 in /usr/local/lib/python3.7/dist-packages (from typer<0.5.0,>=0.3.0->spacy[transformers]) (7.1.2)\n",
            "Requirement already satisfied: MarkupSafe>=0.23 in /usr/local/lib/python3.7/dist-packages (from jinja2->spacy[transformers]) (2.0.1)\n",
            "Installing collected packages: tokenizers, huggingface-hub, transformers, spacy-alignments, spacy-transformers\n",
            "Successfully installed huggingface-hub-0.11.0 spacy-alignments-0.8.6 spacy-transformers-1.1.8 tokenizers-0.12.1 transformers-4.21.3\n"
          ]
        }
      ],
      "source": [
        "!pip install spacy[transformers]\n",
        "import spacy_transformers"
      ]
    },
    {
      "cell_type": "code",
      "execution_count": 7,
      "metadata": {
        "colab": {
          "base_uri": "https://localhost:8080/"
        },
        "id": "l9o_oyNhh6Hu",
        "outputId": "789712c8-5d82-4129-fe05-0fd94a506b47"
      },
      "outputs": [
        {
          "name": "stdout",
          "output_type": "stream",
          "text": [
            "\u001b[38;5;2m✔ Created output directory: output2\u001b[0m\n",
            "\u001b[38;5;4mℹ Saving to output directory: output2\u001b[0m\n",
            "\u001b[38;5;4mℹ Using GPU: 0\u001b[0m\n",
            "\u001b[1m\n",
            "=========================== Initializing pipeline ===========================\u001b[0m\n",
            "[2022-11-18 16:21:03,457] [INFO] Set up nlp object from config\n",
            "INFO:spacy:Set up nlp object from config\n",
            "[2022-11-18 16:21:03,468] [INFO] Pipeline: ['transformer', 'ner']\n",
            "INFO:spacy:Pipeline: ['transformer', 'ner']\n",
            "[2022-11-18 16:21:03,472] [INFO] Created vocabulary\n",
            "INFO:spacy:Created vocabulary\n",
            "[2022-11-18 16:21:03,473] [INFO] Finished initializing nlp object\n",
            "INFO:spacy:Finished initializing nlp object\n",
            "Some weights of the model checkpoint at xlm-roberta-base were not used when initializing XLMRobertaModel: ['lm_head.decoder.weight', 'lm_head.dense.bias', 'lm_head.layer_norm.bias', 'lm_head.layer_norm.weight', 'lm_head.dense.weight', 'lm_head.bias']\n",
            "- This IS expected if you are initializing XLMRobertaModel from the checkpoint of a model trained on another task or with another architecture (e.g. initializing a BertForSequenceClassification model from a BertForPreTraining model).\n",
            "- This IS NOT expected if you are initializing XLMRobertaModel from the checkpoint of a model that you expect to be exactly identical (initializing a BertForSequenceClassification model from a BertForSequenceClassification model).\n",
            "[2022-11-18 16:21:20,000] [INFO] Initialized pipeline components: ['transformer', 'ner']\n",
            "INFO:spacy:Initialized pipeline components: ['transformer', 'ner']\n",
            "\u001b[38;5;2m✔ Initialized pipeline\u001b[0m\n",
            "\u001b[1m\n",
            "============================= Training pipeline =============================\u001b[0m\n",
            "\u001b[38;5;4mℹ Pipeline: ['transformer', 'ner']\u001b[0m\n",
            "\u001b[38;5;4mℹ Initial learn rate: 0.0\u001b[0m\n",
            "\u001b[38;5;3m⚠ Saving logs is disabled because saveoutput.txt already exists.\u001b[0m\n",
            "E    #       LOSS TRANS...  LOSS NER  ENTS_F  ENTS_P  ENTS_R  SCORE \n",
            "---  ------  -------------  --------  ------  ------  ------  ------\n",
            "tcmalloc: large alloc 1200103424 bytes == 0x109fce000 @  0x7efc215af615 0x58ead6 0x4f355e 0x58f8af 0x58fb26 0x7efbab3e207f 0x7efbab3b2974 0x7efb6a41bef5 0x7efb6a416441 0x7efb6a41d549 0x7efbab3b2f3b 0x7efbab03cf61 0x58f6e4 0x590691 0x510946 0x5b575e 0x58ff2e 0x50c4fc 0x5b4ee6 0x58ff2e 0x510325 0x58fd37 0x50ca37 0x5b4ee6 0x58ff2e 0x50c4fc 0x58fd37 0x50ca37 0x58fd37 0x50ca37 0x58fd37\n",
            "tcmalloc: large alloc 1500135424 bytes == 0x151850000 @  0x7efc215af615 0x58ead6 0x4f355e 0x58f8af 0x58fb26 0x7efbab3e207f 0x7efbab3b2974 0x7efb6a41bef5 0x7efb6a416441 0x7efb6a41d549 0x7efbab3b2f3b 0x7efbab03cf61 0x58f6e4 0x590691 0x510946 0x5b575e 0x58ff2e 0x50c4fc 0x5b4ee6 0x58ff2e 0x510325 0x58fd37 0x50ca37 0x5b4ee6 0x58ff2e 0x50c4fc 0x58fd37 0x50ca37 0x58fd37 0x50ca37 0x58fd37\n",
            "tcmalloc: large alloc 2224521216 bytes == 0x7ef7ef688000 @  0x7efc215af2a4 0x7efc15e0d193 0x7efc15e0ec5d 0x7efc15e0b435 0x7efc15e0bbde 0x4d222f 0x51041f 0x5b4ee6 0x58ff2e 0x50d482 0x58fd37 0x510325 0x58fd37 0x50ca37 0x5b4ee6 0x58ff2e 0x50c4fc 0x58fd37 0x50ca37 0x58fd37 0x50ca37 0x58fd37 0x50ca37 0x5b575e 0x58ff2e 0x50c4fc 0x58fd37 0x510325 0x5b575e 0x58ff2e 0x50d482\n",
            "tcmalloc: large alloc 2268823552 bytes == 0x14d9aa000 @  0x7efc215af2a4 0x7efc15e0d193 0x7efc15e0d320 0x7efc15e0d320 0x7efc15e0ec5d 0x7efc15e0b435 0x7efc15e0bbde 0x4d222f 0x51041f 0x5b4ee6 0x58ff2e 0x50d482 0x58fd37 0x510325 0x58fd37 0x50ca37 0x58fd37 0x50ca37 0x5b575e 0x58ff2e 0x50c4fc 0x58fd37 0x510325 0x5b575e 0x58ff2e 0x50d482 0x5b4ee6 0x58ff2e 0x50c4fc 0x58fd37 0x510325\n",
            "  0       0         363.88    671.69    0.00    0.00    0.00    0.00\n",
            "tcmalloc: large alloc 2224521216 bytes == 0x7ef7ef688000 @  0x7efc215af2a4 0x7efc15e0d193 0x7efc15e0ec5d 0x7efc15e0b435 0x7efc15e0bbde 0x4d222f 0x51041f 0x5b4ee6 0x58ff2e 0x50d482 0x58fd37 0x510325 0x58fd37 0x50ca37 0x5b4ee6 0x58ff2e 0x50c4fc 0x58fd37 0x50ca37 0x58fd37 0x50ca37 0x58fd37 0x50ca37 0x5b575e 0x58ff2e 0x50c4fc 0x58fd37 0x510325 0x5b575e 0x58ff2e 0x50d482\n",
            "tcmalloc: large alloc 2268823552 bytes == 0x7ef70ac48000 @  0x7efc215af2a4 0x7efc15e0d193 0x7efc15e0d320 0x7efc15e0d320 0x7efc15e0ec5d 0x7efc15e0b435 0x7efc15e0bbde 0x4d222f 0x51041f 0x5b4ee6 0x58ff2e 0x50d482 0x58fd37 0x510325 0x58fd37 0x50ca37 0x58fd37 0x50ca37 0x5b575e 0x58ff2e 0x50c4fc 0x58fd37 0x510325 0x5b575e 0x58ff2e 0x50d482 0x5b4ee6 0x58ff2e 0x50c4fc 0x58fd37 0x510325\n",
            "  0      50       17499.53  29514.54   58.14   84.82   44.22    0.58\n",
            "tcmalloc: large alloc 2224521216 bytes == 0x7ef70ac48000 @  0x7efc215af2a4 0x7efc15e0d193 0x7efc15e0ec5d 0x7efc15e0b435 0x7efc15e0bbde 0x4d222f 0x51041f 0x5b4ee6 0x58ff2e 0x50d482 0x58fd37 0x510325 0x58fd37 0x50ca37 0x5b4ee6 0x58ff2e 0x50c4fc 0x58fd37 0x50ca37 0x58fd37 0x50ca37 0x58fd37 0x50ca37 0x5b575e 0x58ff2e 0x50c4fc 0x58fd37 0x510325 0x5b575e 0x58ff2e 0x50d482\n",
            "  0     100        3369.74   2013.59   81.38   84.41   78.55    0.81\n",
            "  1     150         401.82    757.27   91.16   88.08   94.46    0.91\n",
            "  1     200         154.29    447.81   95.38   94.57   96.20    0.95\n",
            "  2     250         108.94    324.02   94.73   92.57   97.00    0.95\n",
            "\u001b[38;5;2m✔ Saved pipeline to output directory\u001b[0m\n",
            "output2/model-last\n"
          ]
        }
      ],
      "source": [
        "!python -m spacy train config_roberta.cfg --gpu-id 0 --paths.train train.spacy --paths.dev dev.spacy --output ./output2"
      ]
    },
    {
      "cell_type": "code",
      "execution_count": 8,
      "metadata": {
        "colab": {
          "base_uri": "https://localhost:8080/"
        },
        "id": "rIGa0T4-qSY9",
        "outputId": "bef99f2f-920e-4c5a-e587-c4d6f7ffd3d6"
      },
      "outputs": [
        {
          "name": "stdout",
          "output_type": "stream",
          "text": [
            "\u001b[38;5;4mℹ Using GPU: 0\u001b[0m\n",
            "tcmalloc: large alloc 1134411776 bytes == 0x78d90000 @  0x7f85bb94a1e7 0x4b2590 0x5ad01c 0x5dcfef 0x58f92b 0x590c33 0x5e48ac 0x4d20fa 0x51041f 0x5b575e 0x58ff2e 0x50c4fc 0x58fd37 0x510325 0x5b575e 0x58ff2e 0x50d482 0x5b4ee6 0x58ff2e 0x50c4fc 0x58fd37 0x510325 0x5b575e 0x58ff2e 0x50d482 0x5b575e 0x4bad0a 0x50e18c 0x5b575e 0x58ff2e 0x510325\n",
            "\u001b[1m\n",
            "================================== Results ==================================\u001b[0m\n",
            "\n",
            "TOK     100.00\n",
            "NER P   94.26 \n",
            "NER R   95.86 \n",
            "NER F   95.05 \n",
            "SPEED   4834  \n",
            "\n",
            "\u001b[1m\n",
            "=============================== NER (per type) ===============================\u001b[0m\n",
            "\n",
            "          P       R       F\n",
            "ORG   94.26   95.86   95.05\n",
            "\n"
          ]
        }
      ],
      "source": [
        "!python -m spacy evaluate output2/model-best test.spacy --gpu-id 0"
      ]
    }
  ],
  "metadata": {
    "accelerator": "GPU",
    "colab": {
      "provenance": []
    },
    "gpuClass": "standard",
    "kernelspec": {
      "display_name": "Python 3",
      "name": "python3"
    },
    "language_info": {
      "name": "python"
    }
  },
  "nbformat": 4,
  "nbformat_minor": 0
}
