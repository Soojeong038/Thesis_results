{
  "cells": [
    {
      "cell_type": "code",
      "execution_count": 4,
      "metadata": {
        "id": "i-nn55Nr-J0H"
      },
      "outputs": [],
      "source": [
        "train_path = 'deu.train.utf.txt'\n",
        "dev_path = 'deu.testa.utf.txt'\n",
        "test_path = 'deu.testb.utf.txt'\n",
        "model_checkpoint = \"xlm-roberta-base\"\n",
        "\n",
        "epoch = 4\n",
        "batch_size = 32\n",
        "learning_rate = 5e-5\n",
        "weight_decay = 0.2\n",
        "\n",
        "save_folder_name = 'xlm_conll'"
      ]
    },
    {
      "cell_type": "code",
      "execution_count": 5,
      "metadata": {
        "colab": {
          "base_uri": "https://localhost:8080/"
        },
        "id": "FEYMVFM23G-a",
        "outputId": "07e05082-7e74-4141-e59d-80ff9eb46c31"
      },
      "outputs": [
        {
          "name": "stdout",
          "output_type": "stream",
          "text": [
            "Looking in indexes: https://pypi.org/simple, https://us-python.pkg.dev/colab-wheels/public/simple/\n",
            "Requirement already satisfied: transformers in /usr/local/lib/python3.8/dist-packages (4.25.1)\n",
            "Requirement already satisfied: tokenizers!=0.11.3,<0.14,>=0.11.1 in /usr/local/lib/python3.8/dist-packages (from transformers) (0.13.2)\n",
            "Requirement already satisfied: regex!=2019.12.17 in /usr/local/lib/python3.8/dist-packages (from transformers) (2022.6.2)\n",
            "Requirement already satisfied: tqdm>=4.27 in /usr/local/lib/python3.8/dist-packages (from transformers) (4.64.1)\n",
            "Requirement already satisfied: requests in /usr/local/lib/python3.8/dist-packages (from transformers) (2.25.1)\n",
            "Requirement already satisfied: packaging>=20.0 in /usr/local/lib/python3.8/dist-packages (from transformers) (21.3)\n",
            "Requirement already satisfied: huggingface-hub<1.0,>=0.10.0 in /usr/local/lib/python3.8/dist-packages (from transformers) (0.11.1)\n",
            "Requirement already satisfied: filelock in /usr/local/lib/python3.8/dist-packages (from transformers) (3.8.2)\n",
            "Requirement already satisfied: numpy>=1.17 in /usr/local/lib/python3.8/dist-packages (from transformers) (1.21.6)\n",
            "Requirement already satisfied: pyyaml>=5.1 in /usr/local/lib/python3.8/dist-packages (from transformers) (6.0)\n",
            "Requirement already satisfied: typing-extensions>=3.7.4.3 in /usr/local/lib/python3.8/dist-packages (from huggingface-hub<1.0,>=0.10.0->transformers) (4.4.0)\n",
            "Requirement already satisfied: pyparsing!=3.0.5,>=2.0.2 in /usr/local/lib/python3.8/dist-packages (from packaging>=20.0->transformers) (3.0.9)\n",
            "Requirement already satisfied: chardet<5,>=3.0.2 in /usr/local/lib/python3.8/dist-packages (from requests->transformers) (4.0.0)\n",
            "Requirement already satisfied: idna<3,>=2.5 in /usr/local/lib/python3.8/dist-packages (from requests->transformers) (2.10)\n",
            "Requirement already satisfied: urllib3<1.27,>=1.21.1 in /usr/local/lib/python3.8/dist-packages (from requests->transformers) (1.24.3)\n",
            "Requirement already satisfied: certifi>=2017.4.17 in /usr/local/lib/python3.8/dist-packages (from requests->transformers) (2022.12.7)\n",
            "Looking in indexes: https://pypi.org/simple, https://us-python.pkg.dev/colab-wheels/public/simple/\n",
            "Collecting datasets\n",
            "  Using cached datasets-2.8.0-py3-none-any.whl (452 kB)\n",
            "Requirement already satisfied: tqdm>=4.62.1 in /usr/local/lib/python3.8/dist-packages (from datasets) (4.64.1)\n",
            "Collecting multiprocess\n",
            "  Using cached multiprocess-0.70.14-py38-none-any.whl (132 kB)\n",
            "Requirement already satisfied: pandas in /usr/local/lib/python3.8/dist-packages (from datasets) (1.3.5)\n",
            "Requirement already satisfied: numpy>=1.17 in /usr/local/lib/python3.8/dist-packages (from datasets) (1.21.6)\n",
            "Requirement already satisfied: aiohttp in /usr/local/lib/python3.8/dist-packages (from datasets) (3.8.3)\n",
            "Collecting xxhash\n",
            "  Using cached xxhash-3.2.0-cp38-cp38-manylinux_2_17_x86_64.manylinux2014_x86_64.whl (213 kB)\n",
            "Requirement already satisfied: fsspec[http]>=2021.11.1 in /usr/local/lib/python3.8/dist-packages (from datasets) (2022.11.0)\n",
            "Requirement already satisfied: pyyaml>=5.1 in /usr/local/lib/python3.8/dist-packages (from datasets) (6.0)\n",
            "Requirement already satisfied: dill<0.3.7 in /usr/local/lib/python3.8/dist-packages (from datasets) (0.3.6)\n",
            "Requirement already satisfied: pyarrow>=6.0.0 in /usr/local/lib/python3.8/dist-packages (from datasets) (9.0.0)\n",
            "Collecting responses<0.19\n",
            "  Using cached responses-0.18.0-py3-none-any.whl (38 kB)\n",
            "Requirement already satisfied: huggingface-hub<1.0.0,>=0.2.0 in /usr/local/lib/python3.8/dist-packages (from datasets) (0.11.1)\n",
            "Requirement already satisfied: requests>=2.19.0 in /usr/local/lib/python3.8/dist-packages (from datasets) (2.25.1)\n",
            "Requirement already satisfied: packaging in /usr/local/lib/python3.8/dist-packages (from datasets) (21.3)\n",
            "Requirement already satisfied: yarl<2.0,>=1.0 in /usr/local/lib/python3.8/dist-packages (from aiohttp->datasets) (1.8.2)\n",
            "Requirement already satisfied: aiosignal>=1.1.2 in /usr/local/lib/python3.8/dist-packages (from aiohttp->datasets) (1.3.1)\n",
            "Requirement already satisfied: multidict<7.0,>=4.5 in /usr/local/lib/python3.8/dist-packages (from aiohttp->datasets) (6.0.3)\n",
            "Requirement already satisfied: attrs>=17.3.0 in /usr/local/lib/python3.8/dist-packages (from aiohttp->datasets) (22.2.0)\n",
            "Requirement already satisfied: frozenlist>=1.1.1 in /usr/local/lib/python3.8/dist-packages (from aiohttp->datasets) (1.3.3)\n",
            "Requirement already satisfied: async-timeout<5.0,>=4.0.0a3 in /usr/local/lib/python3.8/dist-packages (from aiohttp->datasets) (4.0.2)\n",
            "Requirement already satisfied: charset-normalizer<3.0,>=2.0 in /usr/local/lib/python3.8/dist-packages (from aiohttp->datasets) (2.1.1)\n",
            "Requirement already satisfied: typing-extensions>=3.7.4.3 in /usr/local/lib/python3.8/dist-packages (from huggingface-hub<1.0.0,>=0.2.0->datasets) (4.4.0)\n",
            "Requirement already satisfied: filelock in /usr/local/lib/python3.8/dist-packages (from huggingface-hub<1.0.0,>=0.2.0->datasets) (3.8.2)\n",
            "Requirement already satisfied: pyparsing!=3.0.5,>=2.0.2 in /usr/local/lib/python3.8/dist-packages (from packaging->datasets) (3.0.9)\n",
            "Requirement already satisfied: urllib3<1.27,>=1.21.1 in /usr/local/lib/python3.8/dist-packages (from requests>=2.19.0->datasets) (1.24.3)\n",
            "Requirement already satisfied: idna<3,>=2.5 in /usr/local/lib/python3.8/dist-packages (from requests>=2.19.0->datasets) (2.10)\n",
            "Requirement already satisfied: certifi>=2017.4.17 in /usr/local/lib/python3.8/dist-packages (from requests>=2.19.0->datasets) (2022.12.7)\n",
            "Requirement already satisfied: chardet<5,>=3.0.2 in /usr/local/lib/python3.8/dist-packages (from requests>=2.19.0->datasets) (4.0.0)\n",
            "Collecting urllib3<1.27,>=1.21.1\n",
            "  Using cached urllib3-1.26.13-py2.py3-none-any.whl (140 kB)\n",
            "Requirement already satisfied: python-dateutil>=2.7.3 in /usr/local/lib/python3.8/dist-packages (from pandas->datasets) (2.8.2)\n",
            "Requirement already satisfied: pytz>=2017.3 in /usr/local/lib/python3.8/dist-packages (from pandas->datasets) (2022.7)\n",
            "Requirement already satisfied: six>=1.5 in /usr/local/lib/python3.8/dist-packages (from python-dateutil>=2.7.3->pandas->datasets) (1.15.0)\n",
            "Installing collected packages: xxhash, urllib3, multiprocess, responses, datasets\n",
            "  Attempting uninstall: urllib3\n",
            "    Found existing installation: urllib3 1.24.3\n",
            "    Uninstalling urllib3-1.24.3:\n",
            "      Successfully uninstalled urllib3-1.24.3\n",
            "Successfully installed datasets-2.8.0 multiprocess-0.70.14 responses-0.18.0 urllib3-1.26.13 xxhash-3.2.0\n"
          ]
        }
      ],
      "source": [
        "!pip install transformers\n",
        "!pip install datasets"
      ]
    },
    {
      "cell_type": "code",
      "execution_count": 6,
      "metadata": {
        "id": "3Symhg6G3LaF"
      },
      "outputs": [],
      "source": [
        "import re\n",
        "import pandas as pd\n",
        "from datasets import Dataset"
      ]
    },
    {
      "cell_type": "markdown",
      "metadata": {
        "id": "bLTZ4JsX3OCZ"
      },
      "source": [
        "Load dataset"
      ]
    },
    {
      "cell_type": "code",
      "execution_count": 7,
      "metadata": {
        "id": "fQFoKlUo34po"
      },
      "outputs": [],
      "source": [
        "def load_data(path):\n",
        "  file = open(path, 'r')\n",
        "  lines = file.readlines()\n",
        "\n",
        "  tokens = []\n",
        "  ner_tags = []\n",
        "\n",
        "  temp_toks = []\n",
        "  temp_tags = []\n",
        "\n",
        "  for i in lines:\n",
        "    if i == '\\n':\n",
        "      tokens.append(temp_toks)\n",
        "      ner_tags.append(temp_tags)\n",
        "\n",
        "      temp_toks = []\n",
        "      temp_tags = []\n",
        "\n",
        "    else:\n",
        "      temp = re.split(' ',i)\n",
        "      temp_toks.append(temp[0])\n",
        "      temp_tags.append(re.sub('\\n','',temp[-1]))\n",
        "  \n",
        "  data = pd.DataFrame({'tokens':tokens,\n",
        "                       'ner_tags':ner_tags})\n",
        "  return data\n"
      ]
    },
    {
      "cell_type": "code",
      "execution_count": 8,
      "metadata": {
        "colab": {
          "base_uri": "https://localhost:8080/",
          "height": 206
        },
        "id": "d6LiyTAz48Wb",
        "outputId": "a1700cba-9c4d-4ba3-929d-636f17ba2e9b"
      },
      "outputs": [
        {
          "data": {
            "text/html": [
              "\n",
              "  <div id=\"df-7d93d3b9-6694-4898-8216-b6b7938e7a9d\">\n",
              "    <div class=\"colab-df-container\">\n",
              "      <div>\n",
              "<style scoped>\n",
              "    .dataframe tbody tr th:only-of-type {\n",
              "        vertical-align: middle;\n",
              "    }\n",
              "\n",
              "    .dataframe tbody tr th {\n",
              "        vertical-align: top;\n",
              "    }\n",
              "\n",
              "    .dataframe thead th {\n",
              "        text-align: right;\n",
              "    }\n",
              "</style>\n",
              "<table border=\"1\" class=\"dataframe\">\n",
              "  <thead>\n",
              "    <tr style=\"text-align: right;\">\n",
              "      <th></th>\n",
              "      <th>tokens</th>\n",
              "      <th>ner_tags</th>\n",
              "    </tr>\n",
              "  </thead>\n",
              "  <tbody>\n",
              "    <tr>\n",
              "      <th>0</th>\n",
              "      <td>[-DOCSTART-]</td>\n",
              "      <td>[O]</td>\n",
              "    </tr>\n",
              "    <tr>\n",
              "      <th>1</th>\n",
              "      <td>[Ereignis, und, Erzählung, oder, :]</td>\n",
              "      <td>[O, O, O, O, O]</td>\n",
              "    </tr>\n",
              "    <tr>\n",
              "      <th>2</th>\n",
              "      <td>[Schwierigkeiten, beim, nachvollziehenden, Ver...</td>\n",
              "      <td>[O, O, O, O, I-PER, I-PER, O, O, O, O, O, I-LO...</td>\n",
              "    </tr>\n",
              "    <tr>\n",
              "      <th>3</th>\n",
              "      <td>[Diskussionen, über, Asylbewerber-, ,, Aussied...</td>\n",
              "      <td>[O, O, O, O, O, O, O, O, O, I-LOC, O, O, O, O,...</td>\n",
              "    </tr>\n",
              "    <tr>\n",
              "      <th>4</th>\n",
              "      <td>[Es, ist, deswegen, momentan, nicht, schwer, ,...</td>\n",
              "      <td>[O, O, O, O, O, O, O, O, O, O, O, O, O, O, O, ...</td>\n",
              "    </tr>\n",
              "  </tbody>\n",
              "</table>\n",
              "</div>\n",
              "      <button class=\"colab-df-convert\" onclick=\"convertToInteractive('df-7d93d3b9-6694-4898-8216-b6b7938e7a9d')\"\n",
              "              title=\"Convert this dataframe to an interactive table.\"\n",
              "              style=\"display:none;\">\n",
              "        \n",
              "  <svg xmlns=\"http://www.w3.org/2000/svg\" height=\"24px\"viewBox=\"0 0 24 24\"\n",
              "       width=\"24px\">\n",
              "    <path d=\"M0 0h24v24H0V0z\" fill=\"none\"/>\n",
              "    <path d=\"M18.56 5.44l.94 2.06.94-2.06 2.06-.94-2.06-.94-.94-2.06-.94 2.06-2.06.94zm-11 1L8.5 8.5l.94-2.06 2.06-.94-2.06-.94L8.5 2.5l-.94 2.06-2.06.94zm10 10l.94 2.06.94-2.06 2.06-.94-2.06-.94-.94-2.06-.94 2.06-2.06.94z\"/><path d=\"M17.41 7.96l-1.37-1.37c-.4-.4-.92-.59-1.43-.59-.52 0-1.04.2-1.43.59L10.3 9.45l-7.72 7.72c-.78.78-.78 2.05 0 2.83L4 21.41c.39.39.9.59 1.41.59.51 0 1.02-.2 1.41-.59l7.78-7.78 2.81-2.81c.8-.78.8-2.07 0-2.86zM5.41 20L4 18.59l7.72-7.72 1.47 1.35L5.41 20z\"/>\n",
              "  </svg>\n",
              "      </button>\n",
              "      \n",
              "  <style>\n",
              "    .colab-df-container {\n",
              "      display:flex;\n",
              "      flex-wrap:wrap;\n",
              "      gap: 12px;\n",
              "    }\n",
              "\n",
              "    .colab-df-convert {\n",
              "      background-color: #E8F0FE;\n",
              "      border: none;\n",
              "      border-radius: 50%;\n",
              "      cursor: pointer;\n",
              "      display: none;\n",
              "      fill: #1967D2;\n",
              "      height: 32px;\n",
              "      padding: 0 0 0 0;\n",
              "      width: 32px;\n",
              "    }\n",
              "\n",
              "    .colab-df-convert:hover {\n",
              "      background-color: #E2EBFA;\n",
              "      box-shadow: 0px 1px 2px rgba(60, 64, 67, 0.3), 0px 1px 3px 1px rgba(60, 64, 67, 0.15);\n",
              "      fill: #174EA6;\n",
              "    }\n",
              "\n",
              "    [theme=dark] .colab-df-convert {\n",
              "      background-color: #3B4455;\n",
              "      fill: #D2E3FC;\n",
              "    }\n",
              "\n",
              "    [theme=dark] .colab-df-convert:hover {\n",
              "      background-color: #434B5C;\n",
              "      box-shadow: 0px 1px 3px 1px rgba(0, 0, 0, 0.15);\n",
              "      filter: drop-shadow(0px 1px 2px rgba(0, 0, 0, 0.3));\n",
              "      fill: #FFFFFF;\n",
              "    }\n",
              "  </style>\n",
              "\n",
              "      <script>\n",
              "        const buttonEl =\n",
              "          document.querySelector('#df-7d93d3b9-6694-4898-8216-b6b7938e7a9d button.colab-df-convert');\n",
              "        buttonEl.style.display =\n",
              "          google.colab.kernel.accessAllowed ? 'block' : 'none';\n",
              "\n",
              "        async function convertToInteractive(key) {\n",
              "          const element = document.querySelector('#df-7d93d3b9-6694-4898-8216-b6b7938e7a9d');\n",
              "          const dataTable =\n",
              "            await google.colab.kernel.invokeFunction('convertToInteractive',\n",
              "                                                     [key], {});\n",
              "          if (!dataTable) return;\n",
              "\n",
              "          const docLinkHtml = 'Like what you see? Visit the ' +\n",
              "            '<a target=\"_blank\" href=https://colab.research.google.com/notebooks/data_table.ipynb>data table notebook</a>'\n",
              "            + ' to learn more about interactive tables.';\n",
              "          element.innerHTML = '';\n",
              "          dataTable['output_type'] = 'display_data';\n",
              "          await google.colab.output.renderOutput(dataTable, element);\n",
              "          const docLink = document.createElement('div');\n",
              "          docLink.innerHTML = docLinkHtml;\n",
              "          element.appendChild(docLink);\n",
              "        }\n",
              "      </script>\n",
              "    </div>\n",
              "  </div>\n",
              "  "
            ],
            "text/plain": [
              "                                              tokens  \\\n",
              "0                                       [-DOCSTART-]   \n",
              "1                [Ereignis, und, Erzählung, oder, :]   \n",
              "2  [Schwierigkeiten, beim, nachvollziehenden, Ver...   \n",
              "3  [Diskussionen, über, Asylbewerber-, ,, Aussied...   \n",
              "4  [Es, ist, deswegen, momentan, nicht, schwer, ,...   \n",
              "\n",
              "                                            ner_tags  \n",
              "0                                                [O]  \n",
              "1                                    [O, O, O, O, O]  \n",
              "2  [O, O, O, O, I-PER, I-PER, O, O, O, O, O, I-LO...  \n",
              "3  [O, O, O, O, O, O, O, O, O, I-LOC, O, O, O, O,...  \n",
              "4  [O, O, O, O, O, O, O, O, O, O, O, O, O, O, O, ...  "
            ]
          },
          "execution_count": 8,
          "metadata": {},
          "output_type": "execute_result"
        }
      ],
      "source": [
        "traindata = load_data(train_path)\n",
        "test = load_data(test_path)\n",
        "dev = load_data(dev_path)\n",
        "\n",
        "traindata.head()"
      ]
    },
    {
      "cell_type": "code",
      "execution_count": 9,
      "metadata": {
        "colab": {
          "base_uri": "https://localhost:8080/"
        },
        "id": "ZHrpUuQA5UhY",
        "outputId": "f7fab2eb-7b64-41bd-de1c-8a8f6c02ec0a"
      },
      "outputs": [
        {
          "data": {
            "text/plain": [
              "['I-LOC', 'I-MISC', 'B-LOC', 'B-ORG', 'B-MISC', 'B-PER', 'I-PER', 'O', 'I-ORG']"
            ]
          },
          "execution_count": 9,
          "metadata": {},
          "output_type": "execute_result"
        }
      ],
      "source": [
        "tags_train = [x for x in traindata['ner_tags']]\n",
        "tags_dev = [x for x in dev['ner_tags']]\n",
        "tags_test = [x for x in test['ner_tags']]\n",
        "tags = tags_train + tags_dev + tags_test\n",
        "label_list = list(set([item for sublist in tags for item in sublist]))\n",
        "label_list"
      ]
    },
    {
      "cell_type": "code",
      "execution_count": 10,
      "metadata": {
        "colab": {
          "base_uri": "https://localhost:8080/"
        },
        "id": "WCSPXxLGxNDo",
        "outputId": "2804d834-2a2c-4ce4-efb9-24ea656aa431"
      },
      "outputs": [
        {
          "data": {
            "text/plain": [
              "{'I-LOC': 0,\n",
              " 'I-MISC': 1,\n",
              " 'B-LOC': 2,\n",
              " 'B-ORG': 3,\n",
              " 'B-MISC': 4,\n",
              " 'B-PER': 5,\n",
              " 'I-PER': 6,\n",
              " 'O': 7,\n",
              " 'I-ORG': 8}"
            ]
          },
          "execution_count": 10,
          "metadata": {},
          "output_type": "execute_result"
        }
      ],
      "source": [
        "label2id = {}\n",
        "id2label= {}\n",
        "count = 0\n",
        "for i in label_list:\n",
        "  label2id.update({i:count})\n",
        "  id2label.update({count:i})\n",
        "  count += 1\n",
        "label2id"
      ]
    },
    {
      "cell_type": "code",
      "execution_count": 11,
      "metadata": {
        "id": "dpVPHTNz5XB5"
      },
      "outputs": [],
      "source": [
        "from transformers import (\n",
        "    AutoConfig,\n",
        "    AutoModelForTokenClassification,\n",
        "    AutoTokenizer\n",
        ")"
      ]
    },
    {
      "cell_type": "code",
      "execution_count": 12,
      "metadata": {
        "colab": {
          "base_uri": "https://localhost:8080/",
          "height": 49,
          "referenced_widgets": [
            "039c55e5054e435ca9b9c9974191c49e",
            "853907bd74fa4ecf8642bf5b57efb74a",
            "2ea598b092be49de8adbcf68751cdc8a",
            "9053a79e122d4124820bbd07c5ecf2e6",
            "fb192f1cab25499ba0bfff5fee45319f",
            "05988ff6abaf48cdbfb643677b6d2f44",
            "0187311b552c42d59f7a0f15f994877b",
            "0274bf8e3227491cb918558378c662ff",
            "e375b96aa4f845ac99ccfdaa9b549243",
            "1f03871a87b143e58410e069e4356e77",
            "f0fda7f265ea4846b9e71c871b342f26"
          ]
        },
        "id": "HOgXLGTA5YeL",
        "outputId": "645e34d4-7da4-4933-88ef-a0dd7cdb7e7d"
      },
      "outputs": [
        {
          "data": {
            "application/vnd.jupyter.widget-view+json": {
              "model_id": "039c55e5054e435ca9b9c9974191c49e",
              "version_major": 2,
              "version_minor": 0
            },
            "text/plain": [
              "Downloading:   0%|          | 0.00/615 [00:00<?, ?B/s]"
            ]
          },
          "metadata": {},
          "output_type": "display_data"
        }
      ],
      "source": [
        "config = AutoConfig.from_pretrained(\n",
        "    model_checkpoint,\n",
        "    num_labels=len(label_list),\n",
        "    id2label = id2label,\n",
        "    label2id = label2id\n",
        ")\n"
      ]
    },
    {
      "cell_type": "code",
      "execution_count": 13,
      "metadata": {
        "colab": {
          "base_uri": "https://localhost:8080/",
          "height": 220,
          "referenced_widgets": [
            "8822b577f61a470297492c1e29a24618",
            "e29a6885ad304e9e95dc58492ace52cc",
            "8db61781b83b489cbcd451892b08a41f",
            "fb811c3701814dccaef3ab98e0ea87c2",
            "563b2b229ab9430ea10c57daa6b80fe7",
            "9d61ec55aafc4d7f9391f118a9f1a024",
            "c6983ff4d59c4dc4ac55d03d8237e94c",
            "c9f94e5b13b64685a460dc98a06f9f18",
            "27bd479630fe4608be4c41927cea3093",
            "7df22269c7774980b673c2f9886bdb7e",
            "03d1e081bb5a49c49345a9d77411974a",
            "ac1c67c21d614710a9dc5910ae30edcc",
            "1105da953c8645958b3dc9175254bf19",
            "f5c0304efb10431ba7ffef5dcf2cd43a",
            "1bad1cb4de254f5f87d60f92242a3084",
            "6aa050bfbbd44758b142badf84523c27",
            "4492c65012d4442d82f6b1f7ce017c6e",
            "aba51022ee1a4272bdb99df72b5f394f",
            "cacf0f2745f54e7e834badd13dae74b9",
            "114de991b01f47f5aa985dc01489b1ea",
            "78b246fb995d4c9dbb6890429bea5d52",
            "acc9e087a4eb4a4a92b345f9498bad85",
            "8f99213517f547a79f5ae37381cdf1bf",
            "d6d9e142e85d44508e8e7cc44f169978",
            "74ef91bdf91943ed889ff0309f781c7f",
            "6468bde83c71474087265bb857f3426f",
            "f8f13396417442a5940b0d8ca69f2feb",
            "df4cb2ac5f3a4134b4fe4e2e936de6ac",
            "d07669011ac74a6a99a8c822be254e2a",
            "ff00da9f7c924591bb9dd77e0a1893e4",
            "7c2f7e3ece964ebda89067e3125855ff",
            "bc87b14ee1824c5faedb58221a468822",
            "22f0871f403449cb8bdb38f4e28989b3"
          ]
        },
        "id": "lVYoblnd5a-O",
        "outputId": "b43f9705-2445-4469-8abd-a64d38834e4c"
      },
      "outputs": [
        {
          "data": {
            "application/vnd.jupyter.widget-view+json": {
              "model_id": "8822b577f61a470297492c1e29a24618",
              "version_major": 2,
              "version_minor": 0
            },
            "text/plain": [
              "Downloading:   0%|          | 0.00/5.07M [00:00<?, ?B/s]"
            ]
          },
          "metadata": {},
          "output_type": "display_data"
        },
        {
          "data": {
            "application/vnd.jupyter.widget-view+json": {
              "model_id": "ac1c67c21d614710a9dc5910ae30edcc",
              "version_major": 2,
              "version_minor": 0
            },
            "text/plain": [
              "Downloading:   0%|          | 0.00/9.10M [00:00<?, ?B/s]"
            ]
          },
          "metadata": {},
          "output_type": "display_data"
        },
        {
          "data": {
            "application/vnd.jupyter.widget-view+json": {
              "model_id": "8f99213517f547a79f5ae37381cdf1bf",
              "version_major": 2,
              "version_minor": 0
            },
            "text/plain": [
              "Downloading:   0%|          | 0.00/1.12G [00:00<?, ?B/s]"
            ]
          },
          "metadata": {},
          "output_type": "display_data"
        },
        {
          "name": "stderr",
          "output_type": "stream",
          "text": [
            "Some weights of the model checkpoint at xlm-roberta-base were not used when initializing XLMRobertaForTokenClassification: ['lm_head.dense.weight', 'lm_head.bias', 'lm_head.layer_norm.weight', 'lm_head.dense.bias', 'lm_head.layer_norm.bias', 'lm_head.decoder.weight']\n",
            "- This IS expected if you are initializing XLMRobertaForTokenClassification from the checkpoint of a model trained on another task or with another architecture (e.g. initializing a BertForSequenceClassification model from a BertForPreTraining model).\n",
            "- This IS NOT expected if you are initializing XLMRobertaForTokenClassification from the checkpoint of a model that you expect to be exactly identical (initializing a BertForSequenceClassification model from a BertForSequenceClassification model).\n",
            "Some weights of XLMRobertaForTokenClassification were not initialized from the model checkpoint at xlm-roberta-base and are newly initialized: ['classifier.weight', 'classifier.bias']\n",
            "You should probably TRAIN this model on a down-stream task to be able to use it for predictions and inference.\n"
          ]
        }
      ],
      "source": [
        "tokenizer = AutoTokenizer.from_pretrained(model_checkpoint)\n",
        "\n",
        "model = AutoModelForTokenClassification.from_pretrained(\n",
        "    model_checkpoint,\n",
        "    config=config\n",
        ")"
      ]
    },
    {
      "cell_type": "code",
      "execution_count": 14,
      "metadata": {
        "id": "dbthZ7K75cgQ"
      },
      "outputs": [],
      "source": [
        "def align_labels(data, label_encoding_dict):\n",
        "    tokenized_inputs = tokenizer(data[\"tokens\"],\n",
        "                        max_length = 128, padding = 'max_length',\n",
        "                        truncation=True, is_split_into_words=True)\n",
        "\n",
        "    label_id_temp = {}\n",
        "    for i, label in enumerate(data['ner_tags']):\n",
        "        label_id_temp.update({i:label})\n",
        "\n",
        "    word_ids = tokenized_inputs.word_ids(batch_index=0)\n",
        "\n",
        "    labels = []\n",
        "    for w_id in word_ids:\n",
        "        if w_id == None:\n",
        "            labels.append(-100)\n",
        "        else:\n",
        "            tag = label_id_temp[w_id]\n",
        "            labels.append(label2id[tag])\n",
        "\n",
        "    tokenized_inputs[\"labels\"] = labels\n",
        "\n",
        "    return tokenized_inputs\n",
        "\n",
        "def tokenized_for_bert(df):\n",
        "  for_bert = df.copy()\n",
        "  for_bert['input_ids'] = \"\"\n",
        "  # for_bert['token_type_ids'] = \"\"\n",
        "  for_bert['attention_mask']= \"\"\n",
        "  for_bert['labels'] = \"\"\n",
        "\n",
        "  for index, row in df.iterrows():\n",
        "      inputs = align_labels(row,label2id)\n",
        "      for_bert.at[index,'input_ids'] = inputs['input_ids']\n",
        "      # for_bert.at[index,'token_type_ids'] = inputs['token_type_ids']\n",
        "      for_bert.at[index,'attention_mask'] = inputs['attention_mask']\n",
        "      for_bert.at[index,'labels'] = inputs['labels']\n",
        "  for_bert = for_bert.drop('tokens', axis = 1)\n",
        "  for_bert = for_bert.drop('ner_tags', axis = 1)\n",
        "  dataset_for_bert = Dataset.from_pandas(for_bert)\n",
        "  print(dataset_for_bert)\n",
        "  return dataset_for_bert"
      ]
    },
    {
      "cell_type": "code",
      "execution_count": 15,
      "metadata": {
        "colab": {
          "base_uri": "https://localhost:8080/"
        },
        "id": "aitmYFO85wnN",
        "outputId": "6d0e977d-3dcc-4734-c753-59f2baf0ea86"
      },
      "outputs": [
        {
          "name": "stdout",
          "output_type": "stream",
          "text": [
            "Dataset({\n",
            "    features: ['input_ids', 'attention_mask', 'labels'],\n",
            "    num_rows: 12705\n",
            "})\n"
          ]
        }
      ],
      "source": [
        "train_dataset = tokenized_for_bert(traindata)"
      ]
    },
    {
      "cell_type": "code",
      "execution_count": 16,
      "metadata": {
        "colab": {
          "base_uri": "https://localhost:8080/"
        },
        "id": "-QCXOVK_8yqw",
        "outputId": "05c7c52b-1900-4e5f-8af4-b1b21a8c7105"
      },
      "outputs": [
        {
          "name": "stdout",
          "output_type": "stream",
          "text": [
            "Dataset({\n",
            "    features: ['input_ids', 'attention_mask', 'labels'],\n",
            "    num_rows: 3068\n",
            "})\n",
            "Dataset({\n",
            "    features: ['input_ids', 'attention_mask', 'labels'],\n",
            "    num_rows: 3160\n",
            "})\n"
          ]
        }
      ],
      "source": [
        "dev_dataset = tokenized_for_bert(dev)\n",
        "test_dataset = tokenized_for_bert(test)"
      ]
    },
    {
      "cell_type": "code",
      "execution_count": 17,
      "metadata": {
        "colab": {
          "base_uri": "https://localhost:8080/"
        },
        "id": "EcyS05WD6SG6",
        "outputId": "869ea757-09b1-491f-9a72-f57b43db37af"
      },
      "outputs": [
        {
          "name": "stdout",
          "output_type": "stream",
          "text": [
            "Looking in indexes: https://pypi.org/simple, https://us-python.pkg.dev/colab-wheels/public/simple/\n",
            "Collecting seqeval\n",
            "  Downloading seqeval-1.2.2.tar.gz (43 kB)\n",
            "\u001b[2K     \u001b[90m━━━━━━━━━━━━━━━━━━━━━━━━━━━━━━━━━━━━━━━━\u001b[0m \u001b[32m43.6/43.6 KB\u001b[0m \u001b[31m2.3 MB/s\u001b[0m eta \u001b[36m0:00:00\u001b[0m\n",
            "\u001b[?25h  Preparing metadata (setup.py) ... \u001b[?25l\u001b[?25hdone\n",
            "Requirement already satisfied: numpy>=1.14.0 in /usr/local/lib/python3.8/dist-packages (from seqeval) (1.21.6)\n",
            "Requirement already satisfied: scikit-learn>=0.21.3 in /usr/local/lib/python3.8/dist-packages (from seqeval) (1.0.2)\n",
            "Requirement already satisfied: joblib>=0.11 in /usr/local/lib/python3.8/dist-packages (from scikit-learn>=0.21.3->seqeval) (1.2.0)\n",
            "Requirement already satisfied: scipy>=1.1.0 in /usr/local/lib/python3.8/dist-packages (from scikit-learn>=0.21.3->seqeval) (1.7.3)\n",
            "Requirement already satisfied: threadpoolctl>=2.0.0 in /usr/local/lib/python3.8/dist-packages (from scikit-learn>=0.21.3->seqeval) (3.1.0)\n",
            "Building wheels for collected packages: seqeval\n",
            "  Building wheel for seqeval (setup.py) ... \u001b[?25l\u001b[?25hdone\n",
            "  Created wheel for seqeval: filename=seqeval-1.2.2-py3-none-any.whl size=16179 sha256=b737a4222556f0bcaab81f18bcf43eadf2f823882590e4f61da5f5e821b185b0\n",
            "  Stored in directory: /root/.cache/pip/wheels/ad/5c/ba/05fa33fa5855777b7d686e843ec07452f22a66a138e290e732\n",
            "Successfully built seqeval\n",
            "Installing collected packages: seqeval\n",
            "Successfully installed seqeval-1.2.2\n"
          ]
        }
      ],
      "source": [
        "!pip install seqeval"
      ]
    },
    {
      "cell_type": "code",
      "execution_count": 18,
      "metadata": {
        "id": "C3nFv6jt6d1d"
      },
      "outputs": [],
      "source": [
        "from transformers import TrainingArguments, Trainer\n",
        "from transformers import DataCollatorForTokenClassification\n",
        "import torch\n",
        "from seqeval.metrics import classification_report"
      ]
    },
    {
      "cell_type": "code",
      "execution_count": 22,
      "metadata": {
        "id": "riUYfPc26fEw"
      },
      "outputs": [],
      "source": [
        "import numpy as np\n",
        "def compute_metrics(p):\n",
        "    predictions, labels = p\n",
        "    predictions = np.argmax(predictions, axis=2)\n",
        "\n",
        "    true_predictions = [[label_list[p] for (p, l) in zip(prediction, label) if l != -100] for prediction, label in zip(predictions, labels)]\n",
        "    true_labels = [[label_list[l] for (p, l) in zip(prediction, label) if l != -100] for prediction, label in zip(predictions, labels)]\n",
        "    \n",
        "    result = classification_report(true_labels, true_predictions, output_dict = True)\n",
        "\n",
        "    print(result)\n",
        "    \n",
        "    return result['ORG']"
      ]
    },
    {
      "cell_type": "code",
      "execution_count": 20,
      "metadata": {
        "colab": {
          "base_uri": "https://localhost:8080/",
          "height": 1000
        },
        "id": "1xPVutlsK1OC",
        "outputId": "ce5257ba-4b43-49cc-bd5c-1ba8c326c7f9"
      },
      "outputs": [
        {
          "name": "stderr",
          "output_type": "stream",
          "text": [
            "/usr/local/lib/python3.8/dist-packages/transformers/optimization.py:306: FutureWarning: This implementation of AdamW is deprecated and will be removed in a future version. Use the PyTorch implementation torch.optim.AdamW instead, or set `no_deprecation_warning=True` to disable this warning\n",
            "  warnings.warn(\n",
            "***** Running training *****\n",
            "  Num examples = 12705\n",
            "  Num Epochs = 4\n",
            "  Instantaneous batch size per device = 32\n",
            "  Total train batch size (w. parallel, distributed & accumulation) = 32\n",
            "  Gradient Accumulation steps = 1\n",
            "  Total optimization steps = 1592\n",
            "  Number of trainable parameters = 277459977\n",
            "You're using a XLMRobertaTokenizerFast tokenizer. Please note that with a fast tokenizer, using the `__call__` method is faster than using a method to encode the text followed by a call to the `pad` method to get a padded encoding.\n"
          ]
        },
        {
          "name": "stdout",
          "output_type": "stream",
          "text": [
            "Training...\n"
          ]
        },
        {
          "data": {
            "text/html": [
              "\n",
              "    <div>\n",
              "      \n",
              "      <progress value='1592' max='1592' style='width:300px; height:20px; vertical-align: middle;'></progress>\n",
              "      [1592/1592 21:27, Epoch 4/4]\n",
              "    </div>\n",
              "    <table border=\"1\" class=\"dataframe\">\n",
              "  <thead>\n",
              " <tr style=\"text-align: left;\">\n",
              "      <th>Epoch</th>\n",
              "      <th>Training Loss</th>\n",
              "      <th>Validation Loss</th>\n",
              "      <th>Precision</th>\n",
              "      <th>Recall</th>\n",
              "      <th>F1-score</th>\n",
              "      <th>Support</th>\n",
              "    </tr>\n",
              "  </thead>\n",
              "  <tbody>\n",
              "    <tr>\n",
              "      <td>1</td>\n",
              "      <td>0.174100</td>\n",
              "      <td>0.127786</td>\n",
              "      <td>0.751377</td>\n",
              "      <td>0.803872</td>\n",
              "      <td>0.776739</td>\n",
              "      <td>1188</td>\n",
              "    </tr>\n",
              "    <tr>\n",
              "      <td>2</td>\n",
              "      <td>0.070400</td>\n",
              "      <td>0.124683</td>\n",
              "      <td>0.814564</td>\n",
              "      <td>0.809764</td>\n",
              "      <td>0.812157</td>\n",
              "      <td>1188</td>\n",
              "    </tr>\n",
              "    <tr>\n",
              "      <td>3</td>\n",
              "      <td>0.042100</td>\n",
              "      <td>0.134151</td>\n",
              "      <td>0.835106</td>\n",
              "      <td>0.792929</td>\n",
              "      <td>0.813472</td>\n",
              "      <td>1188</td>\n",
              "    </tr>\n",
              "    <tr>\n",
              "      <td>4</td>\n",
              "      <td>0.024600</td>\n",
              "      <td>0.146626</td>\n",
              "      <td>0.843777</td>\n",
              "      <td>0.827441</td>\n",
              "      <td>0.835529</td>\n",
              "      <td>1188</td>\n",
              "    </tr>\n",
              "  </tbody>\n",
              "</table><p>"
            ],
            "text/plain": [
              "<IPython.core.display.HTML object>"
            ]
          },
          "metadata": {},
          "output_type": "display_data"
        },
        {
          "name": "stderr",
          "output_type": "stream",
          "text": [
            "***** Running Evaluation *****\n",
            "  Num examples = 3068\n",
            "  Batch size = 32\n"
          ]
        },
        {
          "name": "stdout",
          "output_type": "stream",
          "text": [
            "{'LOC': {'precision': 0.8477477477477477, 'recall': 0.7900923593618808, 'f1-score': 0.8179052585832247, 'support': 1191}, 'MISC': {'precision': 0.717, 'recall': 0.6719775070290535, 'f1-score': 0.6937590711175616, 'support': 1067}, 'ORG': {'precision': 0.7513768686073957, 'recall': 0.8038720538720538, 'f1-score': 0.7767385115900772, 'support': 1188}, 'PER': {'precision': 0.9266521423384169, 'recall': 0.909479686386315, 'f1-score': 0.9179856115107914, 'support': 1403}, 'micro avg': {'precision': 0.8173602353930223, 'recall': 0.8020210352650031, 'f1-score': 0.8096179868845632, 'support': 4849}, 'macro avg': {'precision': 0.8106941896733901, 'recall': 0.7938554016623258, 'f1-score': 0.8015971132004138, 'support': 4849}, 'weighted avg': {'precision': 0.8181965855174165, 'recall': 0.8020210352650031, 'f1-score': 0.8094587041810086, 'support': 4849}}\n"
          ]
        },
        {
          "name": "stderr",
          "output_type": "stream",
          "text": [
            "Saving model checkpoint to xlm-ner/checkpoint-398\n",
            "Configuration saved in xlm-ner/checkpoint-398/config.json\n",
            "Model weights saved in xlm-ner/checkpoint-398/pytorch_model.bin\n",
            "tokenizer config file saved in xlm-ner/checkpoint-398/tokenizer_config.json\n",
            "Special tokens file saved in xlm-ner/checkpoint-398/special_tokens_map.json\n",
            "***** Running Evaluation *****\n",
            "  Num examples = 3068\n",
            "  Batch size = 32\n"
          ]
        },
        {
          "name": "stdout",
          "output_type": "stream",
          "text": [
            "{'LOC': {'precision': 0.8283157038242474, 'recall': 0.8547439126784215, 'f1-score': 0.8413223140495867, 'support': 1191}, 'MISC': {'precision': 0.7795358649789029, 'recall': 0.6925960637300843, 'f1-score': 0.7334987593052109, 'support': 1067}, 'ORG': {'precision': 0.8145639288738358, 'recall': 0.8097643097643098, 'f1-score': 0.8121570282819756, 'support': 1188}, 'PER': {'precision': 0.9517980107115531, 'recall': 0.8866714183891661, 'f1-score': 0.918081180811808, 'support': 1403}, 'micro avg': {'precision': 0.8495176848874598, 'recall': 0.8172819137966592, 'f1-score': 0.8330880807231449, 'support': 4849}, 'macro avg': {'precision': 0.8435533770971347, 'recall': 0.8109439261404955, 'f1-score': 0.8262648206121453, 'support': 4849}, 'weighted avg': {'precision': 0.8499408801232406, 'recall': 0.8172819137966592, 'f1-score': 0.832660032685022, 'support': 4849}}\n"
          ]
        },
        {
          "name": "stderr",
          "output_type": "stream",
          "text": [
            "Saving model checkpoint to xlm-ner/checkpoint-796\n",
            "Configuration saved in xlm-ner/checkpoint-796/config.json\n",
            "Model weights saved in xlm-ner/checkpoint-796/pytorch_model.bin\n",
            "tokenizer config file saved in xlm-ner/checkpoint-796/tokenizer_config.json\n",
            "Special tokens file saved in xlm-ner/checkpoint-796/special_tokens_map.json\n",
            "***** Running Evaluation *****\n",
            "  Num examples = 3068\n",
            "  Batch size = 32\n"
          ]
        },
        {
          "name": "stdout",
          "output_type": "stream",
          "text": [
            "{'LOC': {'precision': 0.8554522400676247, 'recall': 0.8497061293031066, 'f1-score': 0.8525695029486099, 'support': 1191}, 'MISC': {'precision': 0.7628458498023716, 'recall': 0.7235238987816307, 'f1-score': 0.7426647426647427, 'support': 1067}, 'ORG': {'precision': 0.8351063829787234, 'recall': 0.7929292929292929, 'f1-score': 0.8134715025906736, 'support': 1188}, 'PER': {'precision': 0.9427121102248006, 'recall': 0.9265858873841768, 'f1-score': 0.9345794392523366, 'support': 1403}, 'micro avg': {'precision': 0.8562313908974905, 'recall': 0.8302742833573933, 'f1-score': 0.8430530834467594, 'support': 4849}, 'macro avg': {'precision': 0.8490291457683801, 'recall': 0.8231863020995518, 'f1-score': 0.8358212968640907, 'support': 4849}, 'weighted avg': {'precision': 0.8553375156287463, 'recall': 0.8302742833573933, 'f1-score': 0.8425350911082332, 'support': 4849}}\n"
          ]
        },
        {
          "name": "stderr",
          "output_type": "stream",
          "text": [
            "Saving model checkpoint to xlm-ner/checkpoint-1194\n",
            "Configuration saved in xlm-ner/checkpoint-1194/config.json\n",
            "Model weights saved in xlm-ner/checkpoint-1194/pytorch_model.bin\n",
            "tokenizer config file saved in xlm-ner/checkpoint-1194/tokenizer_config.json\n",
            "Special tokens file saved in xlm-ner/checkpoint-1194/special_tokens_map.json\n",
            "***** Running Evaluation *****\n",
            "  Num examples = 3068\n",
            "  Batch size = 32\n"
          ]
        },
        {
          "name": "stdout",
          "output_type": "stream",
          "text": [
            "{'LOC': {'precision': 0.8591549295774648, 'recall': 0.8706968933669186, 'f1-score': 0.8648874061718098, 'support': 1191}, 'MISC': {'precision': 0.7899686520376176, 'recall': 0.7085285848172446, 'f1-score': 0.7470355731225296, 'support': 1067}, 'ORG': {'precision': 0.8437768240343347, 'recall': 0.8274410774410774, 'f1-score': 0.8355291117722058, 'support': 1188}, 'PER': {'precision': 0.9381368267831149, 'recall': 0.9187455452601568, 'f1-score': 0.9283399351818509, 'support': 1403}, 'micro avg': {'precision': 0.8643419094195195, 'recall': 0.8383171787997525, 'f1-score': 0.8511306532663317, 'support': 4849}, 'macro avg': {'precision': 0.857759308108133, 'recall': 0.8313530252213494, 'f1-score': 0.843948006562099, 'support': 4849}, 'weighted avg': {'precision': 0.8630156543164361, 'recall': 0.8383171787997525, 'f1-score': 0.8501211324227431, 'support': 4849}}\n"
          ]
        },
        {
          "name": "stderr",
          "output_type": "stream",
          "text": [
            "Saving model checkpoint to xlm-ner/checkpoint-1592\n",
            "Configuration saved in xlm-ner/checkpoint-1592/config.json\n",
            "Model weights saved in xlm-ner/checkpoint-1592/pytorch_model.bin\n",
            "tokenizer config file saved in xlm-ner/checkpoint-1592/tokenizer_config.json\n",
            "Special tokens file saved in xlm-ner/checkpoint-1592/special_tokens_map.json\n",
            "\n",
            "\n",
            "Training completed. Do not forget to share your model on huggingface.co/models =)\n",
            "\n",
            "\n",
            "Loading best model from xlm-ner/checkpoint-1592 (score: 0.8355291117722058).\n",
            "***** Running Evaluation *****\n",
            "  Num examples = 3068\n",
            "  Batch size = 32\n"
          ]
        },
        {
          "name": "stdout",
          "output_type": "stream",
          "text": [
            "Evaluating...\n"
          ]
        },
        {
          "data": {
            "text/html": [
              "\n",
              "    <div>\n",
              "      \n",
              "      <progress value='96' max='96' style='width:300px; height:20px; vertical-align: middle;'></progress>\n",
              "      [96/96 00:19]\n",
              "    </div>\n",
              "    "
            ],
            "text/plain": [
              "<IPython.core.display.HTML object>"
            ]
          },
          "metadata": {},
          "output_type": "display_data"
        },
        {
          "name": "stdout",
          "output_type": "stream",
          "text": [
            "{'LOC': {'precision': 0.8591549295774648, 'recall': 0.8706968933669186, 'f1-score': 0.8648874061718098, 'support': 1191}, 'MISC': {'precision': 0.7899686520376176, 'recall': 0.7085285848172446, 'f1-score': 0.7470355731225296, 'support': 1067}, 'ORG': {'precision': 0.8437768240343347, 'recall': 0.8274410774410774, 'f1-score': 0.8355291117722058, 'support': 1188}, 'PER': {'precision': 0.9381368267831149, 'recall': 0.9187455452601568, 'f1-score': 0.9283399351818509, 'support': 1403}, 'micro avg': {'precision': 0.8643419094195195, 'recall': 0.8383171787997525, 'f1-score': 0.8511306532663317, 'support': 4849}, 'macro avg': {'precision': 0.857759308108133, 'recall': 0.8313530252213494, 'f1-score': 0.843948006562099, 'support': 4849}, 'weighted avg': {'precision': 0.8630156543164361, 'recall': 0.8383171787997525, 'f1-score': 0.8501211324227431, 'support': 4849}}\n"
          ]
        },
        {
          "data": {
            "text/plain": [
              "{'eval_loss': 0.14662572741508484,\n",
              " 'eval_precision': 0.8437768240343347,\n",
              " 'eval_recall': 0.8274410774410774,\n",
              " 'eval_f1-score': 0.8355291117722058,\n",
              " 'eval_support': 1188,\n",
              " 'eval_runtime': 20.9974,\n",
              " 'eval_samples_per_second': 146.113,\n",
              " 'eval_steps_per_second': 4.572,\n",
              " 'epoch': 4.0}"
            ]
          },
          "execution_count": 20,
          "metadata": {},
          "output_type": "execute_result"
        }
      ],
      "source": [
        "\n",
        "args = TrainingArguments(\n",
        "    f\"xlm-ner\",\n",
        "    save_strategy='epoch',\n",
        "    evaluation_strategy='epoch',\n",
        "    logging_strategy='epoch',\n",
        "    learning_rate=learning_rate,\n",
        "    per_device_train_batch_size=batch_size,\n",
        "    per_device_eval_batch_size=batch_size,\n",
        "    num_train_epochs=epoch,\n",
        "    weight_decay = weight_decay,\n",
        "    metric_for_best_model = 'f1-score',\n",
        "    save_total_limit=5,\n",
        "    load_best_model_at_end = True\n",
        ")\n",
        "\n",
        "data_collator = DataCollatorForTokenClassification(tokenizer)\n",
        "\n",
        "trainer = Trainer(\n",
        "    model,\n",
        "    args,\n",
        "    train_dataset=train_dataset,\n",
        "    eval_dataset=dev_dataset,\n",
        "    data_collator=data_collator,\n",
        "    tokenizer=tokenizer,\n",
        "    compute_metrics=compute_metrics\n",
        ")\n",
        "\n",
        "print(\"Training...\")\n",
        "trainer.train()\n",
        "print(\"Evaluating...\")\n",
        "trainer.evaluate()"
      ]
    },
    {
      "cell_type": "code",
      "execution_count": 23,
      "metadata": {
        "colab": {
          "base_uri": "https://localhost:8080/",
          "height": 1000
        },
        "id": "JF6MzS8MAiK5",
        "outputId": "adc7f758-78e8-4e88-a4f4-943097a5f595"
      },
      "outputs": [
        {
          "name": "stderr",
          "output_type": "stream",
          "text": [
            "***** Running Prediction *****\n",
            "  Num examples = 3160\n",
            "  Batch size = 32\n"
          ]
        },
        {
          "data": {
            "text/html": [],
            "text/plain": [
              "<IPython.core.display.HTML object>"
            ]
          },
          "metadata": {},
          "output_type": "display_data"
        },
        {
          "name": "stdout",
          "output_type": "stream",
          "text": [
            "{'LOC': {'precision': 0.8397626112759644, 'recall': 0.8218780251694094, 'f1-score': 0.8307240704500978, 'support': 1033}, 'MISC': {'precision': 0.75, 'recall': 0.6864406779661016, 'f1-score': 0.7168141592920354, 'support': 708}, 'ORG': {'precision': 0.75, 'recall': 0.7218628719275549, 'f1-score': 0.7356624917600528, 'support': 773}, 'PER': {'precision': 0.9230132450331126, 'recall': 0.9346186085498742, 'f1-score': 0.9287796751353602, 'support': 1193}, 'micro avg': {'precision': 0.8330102464691221, 'recall': 0.8114378203398975, 'f1-score': 0.8220825362120798, 'support': 3707}, 'macro avg': {'precision': 0.8156939640772692, 'recall': 0.7912000459032351, 'f1-score': 0.8029950991593865, 'support': 3707}, 'weighted avg': {'precision': 0.8306931693478755, 'recall': 0.8114378203398975, 'f1-score': 0.8207023598922896, 'support': 3707}}\n"
          ]
        },
        {
          "data": {
            "text/plain": [
              "PredictionOutput(predictions=array([[[ 0.73928005,  0.17507993, -2.1409671 , ..., -0.75855327,\n",
              "          5.584591  , -1.0954525 ],\n",
              "        [-1.0639623 , -1.1147895 , -2.3909903 , ..., -0.81149507,\n",
              "          9.927893  , -1.6635995 ],\n",
              "        [-1.1300712 , -0.9387541 , -2.4725218 , ..., -0.97768605,\n",
              "          9.810606  , -1.6785362 ],\n",
              "        ...,\n",
              "        [ 0.845791  ,  0.24014622, -1.8566028 , ..., -0.75918406,\n",
              "          5.048185  , -0.9934535 ],\n",
              "        [ 0.845791  ,  0.24014622, -1.8566028 , ..., -0.75918406,\n",
              "          5.048185  , -0.9934535 ],\n",
              "        [ 0.845791  ,  0.24014622, -1.8566028 , ..., -0.75918406,\n",
              "          5.048185  , -0.9934535 ]],\n",
              "\n",
              "       [[ 1.0349097 , -0.4071042 , -2.283815  , ..., -0.34858763,\n",
              "          5.2560096 , -0.5274501 ],\n",
              "        [ 1.3449433 , -1.40646   , -3.0685349 , ..., -0.41854358,\n",
              "          7.5041237 ,  0.32704538],\n",
              "        [-0.3669902 , -1.1532416 , -3.140769  , ..., -0.3178445 ,\n",
              "          9.282457  , -0.66589975],\n",
              "        ...,\n",
              "        [ 1.0567    , -0.25759622, -1.9267823 , ..., -0.36421394,\n",
              "          4.6373396 , -0.47276902],\n",
              "        [ 1.0567    , -0.25759622, -1.9267823 , ..., -0.36421394,\n",
              "          4.6373396 , -0.47276902],\n",
              "        [ 1.0567    , -0.25759622, -1.9267823 , ..., -0.36421394,\n",
              "          4.6373396 , -0.47276902]],\n",
              "\n",
              "       [[ 5.194658  , -0.3174443 , -1.3142279 , ..., -0.03588152,\n",
              "          2.6110191 , -1.1866323 ],\n",
              "        [ 7.5808525 , -1.6758454 , -0.5879375 , ...,  0.40900502,\n",
              "          1.0698042 , -0.9095509 ],\n",
              "        [ 7.6696787 , -1.6905596 , -0.55714273, ...,  0.4179589 ,\n",
              "          0.98255885, -1.1164414 ],\n",
              "        ...,\n",
              "        [ 4.777618  , -0.04181635, -1.1716152 , ..., -0.10248891,\n",
              "          2.5107822 , -0.9669192 ],\n",
              "        [ 4.777618  , -0.04181635, -1.1716152 , ..., -0.10248891,\n",
              "          2.5107822 , -0.9669192 ],\n",
              "        [ 4.777618  , -0.04181635, -1.1716152 , ..., -0.10248891,\n",
              "          2.5107822 , -0.9669192 ]],\n",
              "\n",
              "       ...,\n",
              "\n",
              "       [[ 0.77853584, -0.2382315 , -2.164384  , ..., -0.99752724,\n",
              "          5.6856804 , -0.9106776 ],\n",
              "        [-1.2391367 , -1.079057  , -2.562852  , ..., -1.1582373 ,\n",
              "         10.14554   , -1.4710789 ],\n",
              "        [-1.380506  , -1.1367471 , -2.790228  , ..., -1.1390429 ,\n",
              "          9.953669  , -1.1873065 ],\n",
              "        ...,\n",
              "        [ 0.88940054, -0.15349506, -1.9969937 , ..., -0.99018097,\n",
              "          5.328595  , -0.8392879 ],\n",
              "        [ 0.88940054, -0.15349506, -1.9969937 , ..., -0.99018097,\n",
              "          5.328595  , -0.8392879 ],\n",
              "        [ 0.88940054, -0.15349506, -1.9969937 , ..., -0.99018097,\n",
              "          5.328595  , -0.8392879 ]],\n",
              "\n",
              "       [[ 0.5427683 , -0.19935489, -2.204131  , ..., -0.75696886,\n",
              "          5.625944  , -0.9411665 ],\n",
              "        [-1.335777  , -1.0534744 , -2.581962  , ..., -0.58174926,\n",
              "          9.968458  , -1.3421681 ],\n",
              "        [-1.4433784 , -1.1633652 , -2.768186  , ..., -0.6996648 ,\n",
              "         10.051044  , -1.3502858 ],\n",
              "        ...,\n",
              "        [ 0.6428927 , -0.1474709 , -2.0024886 , ..., -0.7559667 ,\n",
              "          5.17428   , -0.87527835],\n",
              "        [ 0.6428927 , -0.1474709 , -2.0024886 , ..., -0.7559667 ,\n",
              "          5.17428   , -0.87527835],\n",
              "        [ 0.6428927 , -0.1474709 , -2.0024886 , ..., -0.7559667 ,\n",
              "          5.17428   , -0.87527835]],\n",
              "\n",
              "       [[ 1.0319352 , -0.28604642, -1.8933935 , ...,  0.6990549 ,\n",
              "          3.2302558 , -1.1412317 ],\n",
              "        [ 0.18301937, -0.15388846, -2.808429  , ...,  2.3729048 ,\n",
              "          7.184202  , -1.0908831 ],\n",
              "        [ 1.0283196 , -0.23472705, -1.499764  , ...,  0.49045357,\n",
              "          2.5687366 , -0.9696401 ],\n",
              "        ...,\n",
              "        [ 1.028184  , -0.23455963, -1.4990795 , ...,  0.49020323,\n",
              "          2.5680516 , -0.96935046],\n",
              "        [ 1.028184  , -0.23455963, -1.4990795 , ...,  0.49020323,\n",
              "          2.5680516 , -0.96935046],\n",
              "        [ 1.028184  , -0.23455963, -1.4990795 , ...,  0.49020323,\n",
              "          2.5680516 , -0.96935046]]], dtype=float32), label_ids=array([[-100,    7,    7, ..., -100, -100, -100],\n",
              "       [-100,    7,    7, ..., -100, -100, -100],\n",
              "       [-100,    0,    0, ..., -100, -100, -100],\n",
              "       ...,\n",
              "       [-100,    7,    7, ..., -100, -100, -100],\n",
              "       [-100,    7,    7, ..., -100, -100, -100],\n",
              "       [-100,    7, -100, ..., -100, -100, -100]]), metrics={'test_loss': 0.15163734555244446, 'test_precision': 0.75, 'test_recall': 0.7218628719275549, 'test_f1-score': 0.7356624917600528, 'test_support': 773, 'test_runtime': 21.114, 'test_samples_per_second': 149.664, 'test_steps_per_second': 4.689})"
            ]
          },
          "execution_count": 23,
          "metadata": {},
          "output_type": "execute_result"
        }
      ],
      "source": [
        "trainer.predict(test_dataset)"
      ]
    }
  ],
  "metadata": {
    "accelerator": "GPU",
    "colab": {
      "provenance": []
    },
    "gpuClass": "standard",
    "kernelspec": {
      "display_name": "Python 3",
      "name": "python3"
    },
    "language_info": {
      "name": "python"
    },
    "widgets": {
      "application/vnd.jupyter.widget-state+json": {
        "0187311b552c42d59f7a0f15f994877b": {
          "model_module": "@jupyter-widgets/controls",
          "model_module_version": "1.5.0",
          "model_name": "DescriptionStyleModel",
          "state": {
            "_model_module": "@jupyter-widgets/controls",
            "_model_module_version": "1.5.0",
            "_model_name": "DescriptionStyleModel",
            "_view_count": null,
            "_view_module": "@jupyter-widgets/base",
            "_view_module_version": "1.2.0",
            "_view_name": "StyleView",
            "description_width": ""
          }
        },
        "0274bf8e3227491cb918558378c662ff": {
          "model_module": "@jupyter-widgets/base",
          "model_module_version": "1.2.0",
          "model_name": "LayoutModel",
          "state": {
            "_model_module": "@jupyter-widgets/base",
            "_model_module_version": "1.2.0",
            "_model_name": "LayoutModel",
            "_view_count": null,
            "_view_module": "@jupyter-widgets/base",
            "_view_module_version": "1.2.0",
            "_view_name": "LayoutView",
            "align_content": null,
            "align_items": null,
            "align_self": null,
            "border": null,
            "bottom": null,
            "display": null,
            "flex": null,
            "flex_flow": null,
            "grid_area": null,
            "grid_auto_columns": null,
            "grid_auto_flow": null,
            "grid_auto_rows": null,
            "grid_column": null,
            "grid_gap": null,
            "grid_row": null,
            "grid_template_areas": null,
            "grid_template_columns": null,
            "grid_template_rows": null,
            "height": null,
            "justify_content": null,
            "justify_items": null,
            "left": null,
            "margin": null,
            "max_height": null,
            "max_width": null,
            "min_height": null,
            "min_width": null,
            "object_fit": null,
            "object_position": null,
            "order": null,
            "overflow": null,
            "overflow_x": null,
            "overflow_y": null,
            "padding": null,
            "right": null,
            "top": null,
            "visibility": null,
            "width": null
          }
        },
        "039c55e5054e435ca9b9c9974191c49e": {
          "model_module": "@jupyter-widgets/controls",
          "model_module_version": "1.5.0",
          "model_name": "HBoxModel",
          "state": {
            "_dom_classes": [],
            "_model_module": "@jupyter-widgets/controls",
            "_model_module_version": "1.5.0",
            "_model_name": "HBoxModel",
            "_view_count": null,
            "_view_module": "@jupyter-widgets/controls",
            "_view_module_version": "1.5.0",
            "_view_name": "HBoxView",
            "box_style": "",
            "children": [
              "IPY_MODEL_853907bd74fa4ecf8642bf5b57efb74a",
              "IPY_MODEL_2ea598b092be49de8adbcf68751cdc8a",
              "IPY_MODEL_9053a79e122d4124820bbd07c5ecf2e6"
            ],
            "layout": "IPY_MODEL_fb192f1cab25499ba0bfff5fee45319f"
          }
        },
        "03d1e081bb5a49c49345a9d77411974a": {
          "model_module": "@jupyter-widgets/controls",
          "model_module_version": "1.5.0",
          "model_name": "DescriptionStyleModel",
          "state": {
            "_model_module": "@jupyter-widgets/controls",
            "_model_module_version": "1.5.0",
            "_model_name": "DescriptionStyleModel",
            "_view_count": null,
            "_view_module": "@jupyter-widgets/base",
            "_view_module_version": "1.2.0",
            "_view_name": "StyleView",
            "description_width": ""
          }
        },
        "05988ff6abaf48cdbfb643677b6d2f44": {
          "model_module": "@jupyter-widgets/base",
          "model_module_version": "1.2.0",
          "model_name": "LayoutModel",
          "state": {
            "_model_module": "@jupyter-widgets/base",
            "_model_module_version": "1.2.0",
            "_model_name": "LayoutModel",
            "_view_count": null,
            "_view_module": "@jupyter-widgets/base",
            "_view_module_version": "1.2.0",
            "_view_name": "LayoutView",
            "align_content": null,
            "align_items": null,
            "align_self": null,
            "border": null,
            "bottom": null,
            "display": null,
            "flex": null,
            "flex_flow": null,
            "grid_area": null,
            "grid_auto_columns": null,
            "grid_auto_flow": null,
            "grid_auto_rows": null,
            "grid_column": null,
            "grid_gap": null,
            "grid_row": null,
            "grid_template_areas": null,
            "grid_template_columns": null,
            "grid_template_rows": null,
            "height": null,
            "justify_content": null,
            "justify_items": null,
            "left": null,
            "margin": null,
            "max_height": null,
            "max_width": null,
            "min_height": null,
            "min_width": null,
            "object_fit": null,
            "object_position": null,
            "order": null,
            "overflow": null,
            "overflow_x": null,
            "overflow_y": null,
            "padding": null,
            "right": null,
            "top": null,
            "visibility": null,
            "width": null
          }
        },
        "1105da953c8645958b3dc9175254bf19": {
          "model_module": "@jupyter-widgets/controls",
          "model_module_version": "1.5.0",
          "model_name": "HTMLModel",
          "state": {
            "_dom_classes": [],
            "_model_module": "@jupyter-widgets/controls",
            "_model_module_version": "1.5.0",
            "_model_name": "HTMLModel",
            "_view_count": null,
            "_view_module": "@jupyter-widgets/controls",
            "_view_module_version": "1.5.0",
            "_view_name": "HTMLView",
            "description": "",
            "description_tooltip": null,
            "layout": "IPY_MODEL_4492c65012d4442d82f6b1f7ce017c6e",
            "placeholder": "​",
            "style": "IPY_MODEL_aba51022ee1a4272bdb99df72b5f394f",
            "value": "Downloading: 100%"
          }
        },
        "114de991b01f47f5aa985dc01489b1ea": {
          "model_module": "@jupyter-widgets/controls",
          "model_module_version": "1.5.0",
          "model_name": "ProgressStyleModel",
          "state": {
            "_model_module": "@jupyter-widgets/controls",
            "_model_module_version": "1.5.0",
            "_model_name": "ProgressStyleModel",
            "_view_count": null,
            "_view_module": "@jupyter-widgets/base",
            "_view_module_version": "1.2.0",
            "_view_name": "StyleView",
            "bar_color": null,
            "description_width": ""
          }
        },
        "1bad1cb4de254f5f87d60f92242a3084": {
          "model_module": "@jupyter-widgets/controls",
          "model_module_version": "1.5.0",
          "model_name": "HTMLModel",
          "state": {
            "_dom_classes": [],
            "_model_module": "@jupyter-widgets/controls",
            "_model_module_version": "1.5.0",
            "_model_name": "HTMLModel",
            "_view_count": null,
            "_view_module": "@jupyter-widgets/controls",
            "_view_module_version": "1.5.0",
            "_view_name": "HTMLView",
            "description": "",
            "description_tooltip": null,
            "layout": "IPY_MODEL_78b246fb995d4c9dbb6890429bea5d52",
            "placeholder": "​",
            "style": "IPY_MODEL_acc9e087a4eb4a4a92b345f9498bad85",
            "value": " 9.10M/9.10M [00:00&lt;00:00, 15.4MB/s]"
          }
        },
        "1f03871a87b143e58410e069e4356e77": {
          "model_module": "@jupyter-widgets/base",
          "model_module_version": "1.2.0",
          "model_name": "LayoutModel",
          "state": {
            "_model_module": "@jupyter-widgets/base",
            "_model_module_version": "1.2.0",
            "_model_name": "LayoutModel",
            "_view_count": null,
            "_view_module": "@jupyter-widgets/base",
            "_view_module_version": "1.2.0",
            "_view_name": "LayoutView",
            "align_content": null,
            "align_items": null,
            "align_self": null,
            "border": null,
            "bottom": null,
            "display": null,
            "flex": null,
            "flex_flow": null,
            "grid_area": null,
            "grid_auto_columns": null,
            "grid_auto_flow": null,
            "grid_auto_rows": null,
            "grid_column": null,
            "grid_gap": null,
            "grid_row": null,
            "grid_template_areas": null,
            "grid_template_columns": null,
            "grid_template_rows": null,
            "height": null,
            "justify_content": null,
            "justify_items": null,
            "left": null,
            "margin": null,
            "max_height": null,
            "max_width": null,
            "min_height": null,
            "min_width": null,
            "object_fit": null,
            "object_position": null,
            "order": null,
            "overflow": null,
            "overflow_x": null,
            "overflow_y": null,
            "padding": null,
            "right": null,
            "top": null,
            "visibility": null,
            "width": null
          }
        },
        "22f0871f403449cb8bdb38f4e28989b3": {
          "model_module": "@jupyter-widgets/controls",
          "model_module_version": "1.5.0",
          "model_name": "DescriptionStyleModel",
          "state": {
            "_model_module": "@jupyter-widgets/controls",
            "_model_module_version": "1.5.0",
            "_model_name": "DescriptionStyleModel",
            "_view_count": null,
            "_view_module": "@jupyter-widgets/base",
            "_view_module_version": "1.2.0",
            "_view_name": "StyleView",
            "description_width": ""
          }
        },
        "27bd479630fe4608be4c41927cea3093": {
          "model_module": "@jupyter-widgets/controls",
          "model_module_version": "1.5.0",
          "model_name": "ProgressStyleModel",
          "state": {
            "_model_module": "@jupyter-widgets/controls",
            "_model_module_version": "1.5.0",
            "_model_name": "ProgressStyleModel",
            "_view_count": null,
            "_view_module": "@jupyter-widgets/base",
            "_view_module_version": "1.2.0",
            "_view_name": "StyleView",
            "bar_color": null,
            "description_width": ""
          }
        },
        "2ea598b092be49de8adbcf68751cdc8a": {
          "model_module": "@jupyter-widgets/controls",
          "model_module_version": "1.5.0",
          "model_name": "FloatProgressModel",
          "state": {
            "_dom_classes": [],
            "_model_module": "@jupyter-widgets/controls",
            "_model_module_version": "1.5.0",
            "_model_name": "FloatProgressModel",
            "_view_count": null,
            "_view_module": "@jupyter-widgets/controls",
            "_view_module_version": "1.5.0",
            "_view_name": "ProgressView",
            "bar_style": "success",
            "description": "",
            "description_tooltip": null,
            "layout": "IPY_MODEL_0274bf8e3227491cb918558378c662ff",
            "max": 615,
            "min": 0,
            "orientation": "horizontal",
            "style": "IPY_MODEL_e375b96aa4f845ac99ccfdaa9b549243",
            "value": 615
          }
        },
        "4492c65012d4442d82f6b1f7ce017c6e": {
          "model_module": "@jupyter-widgets/base",
          "model_module_version": "1.2.0",
          "model_name": "LayoutModel",
          "state": {
            "_model_module": "@jupyter-widgets/base",
            "_model_module_version": "1.2.0",
            "_model_name": "LayoutModel",
            "_view_count": null,
            "_view_module": "@jupyter-widgets/base",
            "_view_module_version": "1.2.0",
            "_view_name": "LayoutView",
            "align_content": null,
            "align_items": null,
            "align_self": null,
            "border": null,
            "bottom": null,
            "display": null,
            "flex": null,
            "flex_flow": null,
            "grid_area": null,
            "grid_auto_columns": null,
            "grid_auto_flow": null,
            "grid_auto_rows": null,
            "grid_column": null,
            "grid_gap": null,
            "grid_row": null,
            "grid_template_areas": null,
            "grid_template_columns": null,
            "grid_template_rows": null,
            "height": null,
            "justify_content": null,
            "justify_items": null,
            "left": null,
            "margin": null,
            "max_height": null,
            "max_width": null,
            "min_height": null,
            "min_width": null,
            "object_fit": null,
            "object_position": null,
            "order": null,
            "overflow": null,
            "overflow_x": null,
            "overflow_y": null,
            "padding": null,
            "right": null,
            "top": null,
            "visibility": null,
            "width": null
          }
        },
        "563b2b229ab9430ea10c57daa6b80fe7": {
          "model_module": "@jupyter-widgets/base",
          "model_module_version": "1.2.0",
          "model_name": "LayoutModel",
          "state": {
            "_model_module": "@jupyter-widgets/base",
            "_model_module_version": "1.2.0",
            "_model_name": "LayoutModel",
            "_view_count": null,
            "_view_module": "@jupyter-widgets/base",
            "_view_module_version": "1.2.0",
            "_view_name": "LayoutView",
            "align_content": null,
            "align_items": null,
            "align_self": null,
            "border": null,
            "bottom": null,
            "display": null,
            "flex": null,
            "flex_flow": null,
            "grid_area": null,
            "grid_auto_columns": null,
            "grid_auto_flow": null,
            "grid_auto_rows": null,
            "grid_column": null,
            "grid_gap": null,
            "grid_row": null,
            "grid_template_areas": null,
            "grid_template_columns": null,
            "grid_template_rows": null,
            "height": null,
            "justify_content": null,
            "justify_items": null,
            "left": null,
            "margin": null,
            "max_height": null,
            "max_width": null,
            "min_height": null,
            "min_width": null,
            "object_fit": null,
            "object_position": null,
            "order": null,
            "overflow": null,
            "overflow_x": null,
            "overflow_y": null,
            "padding": null,
            "right": null,
            "top": null,
            "visibility": null,
            "width": null
          }
        },
        "6468bde83c71474087265bb857f3426f": {
          "model_module": "@jupyter-widgets/controls",
          "model_module_version": "1.5.0",
          "model_name": "HTMLModel",
          "state": {
            "_dom_classes": [],
            "_model_module": "@jupyter-widgets/controls",
            "_model_module_version": "1.5.0",
            "_model_name": "HTMLModel",
            "_view_count": null,
            "_view_module": "@jupyter-widgets/controls",
            "_view_module_version": "1.5.0",
            "_view_name": "HTMLView",
            "description": "",
            "description_tooltip": null,
            "layout": "IPY_MODEL_bc87b14ee1824c5faedb58221a468822",
            "placeholder": "​",
            "style": "IPY_MODEL_22f0871f403449cb8bdb38f4e28989b3",
            "value": " 1.12G/1.12G [00:22&lt;00:00, 64.2MB/s]"
          }
        },
        "6aa050bfbbd44758b142badf84523c27": {
          "model_module": "@jupyter-widgets/base",
          "model_module_version": "1.2.0",
          "model_name": "LayoutModel",
          "state": {
            "_model_module": "@jupyter-widgets/base",
            "_model_module_version": "1.2.0",
            "_model_name": "LayoutModel",
            "_view_count": null,
            "_view_module": "@jupyter-widgets/base",
            "_view_module_version": "1.2.0",
            "_view_name": "LayoutView",
            "align_content": null,
            "align_items": null,
            "align_self": null,
            "border": null,
            "bottom": null,
            "display": null,
            "flex": null,
            "flex_flow": null,
            "grid_area": null,
            "grid_auto_columns": null,
            "grid_auto_flow": null,
            "grid_auto_rows": null,
            "grid_column": null,
            "grid_gap": null,
            "grid_row": null,
            "grid_template_areas": null,
            "grid_template_columns": null,
            "grid_template_rows": null,
            "height": null,
            "justify_content": null,
            "justify_items": null,
            "left": null,
            "margin": null,
            "max_height": null,
            "max_width": null,
            "min_height": null,
            "min_width": null,
            "object_fit": null,
            "object_position": null,
            "order": null,
            "overflow": null,
            "overflow_x": null,
            "overflow_y": null,
            "padding": null,
            "right": null,
            "top": null,
            "visibility": null,
            "width": null
          }
        },
        "74ef91bdf91943ed889ff0309f781c7f": {
          "model_module": "@jupyter-widgets/controls",
          "model_module_version": "1.5.0",
          "model_name": "FloatProgressModel",
          "state": {
            "_dom_classes": [],
            "_model_module": "@jupyter-widgets/controls",
            "_model_module_version": "1.5.0",
            "_model_name": "FloatProgressModel",
            "_view_count": null,
            "_view_module": "@jupyter-widgets/controls",
            "_view_module_version": "1.5.0",
            "_view_name": "ProgressView",
            "bar_style": "success",
            "description": "",
            "description_tooltip": null,
            "layout": "IPY_MODEL_ff00da9f7c924591bb9dd77e0a1893e4",
            "max": 1115590446,
            "min": 0,
            "orientation": "horizontal",
            "style": "IPY_MODEL_7c2f7e3ece964ebda89067e3125855ff",
            "value": 1115590446
          }
        },
        "78b246fb995d4c9dbb6890429bea5d52": {
          "model_module": "@jupyter-widgets/base",
          "model_module_version": "1.2.0",
          "model_name": "LayoutModel",
          "state": {
            "_model_module": "@jupyter-widgets/base",
            "_model_module_version": "1.2.0",
            "_model_name": "LayoutModel",
            "_view_count": null,
            "_view_module": "@jupyter-widgets/base",
            "_view_module_version": "1.2.0",
            "_view_name": "LayoutView",
            "align_content": null,
            "align_items": null,
            "align_self": null,
            "border": null,
            "bottom": null,
            "display": null,
            "flex": null,
            "flex_flow": null,
            "grid_area": null,
            "grid_auto_columns": null,
            "grid_auto_flow": null,
            "grid_auto_rows": null,
            "grid_column": null,
            "grid_gap": null,
            "grid_row": null,
            "grid_template_areas": null,
            "grid_template_columns": null,
            "grid_template_rows": null,
            "height": null,
            "justify_content": null,
            "justify_items": null,
            "left": null,
            "margin": null,
            "max_height": null,
            "max_width": null,
            "min_height": null,
            "min_width": null,
            "object_fit": null,
            "object_position": null,
            "order": null,
            "overflow": null,
            "overflow_x": null,
            "overflow_y": null,
            "padding": null,
            "right": null,
            "top": null,
            "visibility": null,
            "width": null
          }
        },
        "7c2f7e3ece964ebda89067e3125855ff": {
          "model_module": "@jupyter-widgets/controls",
          "model_module_version": "1.5.0",
          "model_name": "ProgressStyleModel",
          "state": {
            "_model_module": "@jupyter-widgets/controls",
            "_model_module_version": "1.5.0",
            "_model_name": "ProgressStyleModel",
            "_view_count": null,
            "_view_module": "@jupyter-widgets/base",
            "_view_module_version": "1.2.0",
            "_view_name": "StyleView",
            "bar_color": null,
            "description_width": ""
          }
        },
        "7df22269c7774980b673c2f9886bdb7e": {
          "model_module": "@jupyter-widgets/base",
          "model_module_version": "1.2.0",
          "model_name": "LayoutModel",
          "state": {
            "_model_module": "@jupyter-widgets/base",
            "_model_module_version": "1.2.0",
            "_model_name": "LayoutModel",
            "_view_count": null,
            "_view_module": "@jupyter-widgets/base",
            "_view_module_version": "1.2.0",
            "_view_name": "LayoutView",
            "align_content": null,
            "align_items": null,
            "align_self": null,
            "border": null,
            "bottom": null,
            "display": null,
            "flex": null,
            "flex_flow": null,
            "grid_area": null,
            "grid_auto_columns": null,
            "grid_auto_flow": null,
            "grid_auto_rows": null,
            "grid_column": null,
            "grid_gap": null,
            "grid_row": null,
            "grid_template_areas": null,
            "grid_template_columns": null,
            "grid_template_rows": null,
            "height": null,
            "justify_content": null,
            "justify_items": null,
            "left": null,
            "margin": null,
            "max_height": null,
            "max_width": null,
            "min_height": null,
            "min_width": null,
            "object_fit": null,
            "object_position": null,
            "order": null,
            "overflow": null,
            "overflow_x": null,
            "overflow_y": null,
            "padding": null,
            "right": null,
            "top": null,
            "visibility": null,
            "width": null
          }
        },
        "853907bd74fa4ecf8642bf5b57efb74a": {
          "model_module": "@jupyter-widgets/controls",
          "model_module_version": "1.5.0",
          "model_name": "HTMLModel",
          "state": {
            "_dom_classes": [],
            "_model_module": "@jupyter-widgets/controls",
            "_model_module_version": "1.5.0",
            "_model_name": "HTMLModel",
            "_view_count": null,
            "_view_module": "@jupyter-widgets/controls",
            "_view_module_version": "1.5.0",
            "_view_name": "HTMLView",
            "description": "",
            "description_tooltip": null,
            "layout": "IPY_MODEL_05988ff6abaf48cdbfb643677b6d2f44",
            "placeholder": "​",
            "style": "IPY_MODEL_0187311b552c42d59f7a0f15f994877b",
            "value": "Downloading: 100%"
          }
        },
        "8822b577f61a470297492c1e29a24618": {
          "model_module": "@jupyter-widgets/controls",
          "model_module_version": "1.5.0",
          "model_name": "HBoxModel",
          "state": {
            "_dom_classes": [],
            "_model_module": "@jupyter-widgets/controls",
            "_model_module_version": "1.5.0",
            "_model_name": "HBoxModel",
            "_view_count": null,
            "_view_module": "@jupyter-widgets/controls",
            "_view_module_version": "1.5.0",
            "_view_name": "HBoxView",
            "box_style": "",
            "children": [
              "IPY_MODEL_e29a6885ad304e9e95dc58492ace52cc",
              "IPY_MODEL_8db61781b83b489cbcd451892b08a41f",
              "IPY_MODEL_fb811c3701814dccaef3ab98e0ea87c2"
            ],
            "layout": "IPY_MODEL_563b2b229ab9430ea10c57daa6b80fe7"
          }
        },
        "8db61781b83b489cbcd451892b08a41f": {
          "model_module": "@jupyter-widgets/controls",
          "model_module_version": "1.5.0",
          "model_name": "FloatProgressModel",
          "state": {
            "_dom_classes": [],
            "_model_module": "@jupyter-widgets/controls",
            "_model_module_version": "1.5.0",
            "_model_name": "FloatProgressModel",
            "_view_count": null,
            "_view_module": "@jupyter-widgets/controls",
            "_view_module_version": "1.5.0",
            "_view_name": "ProgressView",
            "bar_style": "success",
            "description": "",
            "description_tooltip": null,
            "layout": "IPY_MODEL_c9f94e5b13b64685a460dc98a06f9f18",
            "max": 5069051,
            "min": 0,
            "orientation": "horizontal",
            "style": "IPY_MODEL_27bd479630fe4608be4c41927cea3093",
            "value": 5069051
          }
        },
        "8f99213517f547a79f5ae37381cdf1bf": {
          "model_module": "@jupyter-widgets/controls",
          "model_module_version": "1.5.0",
          "model_name": "HBoxModel",
          "state": {
            "_dom_classes": [],
            "_model_module": "@jupyter-widgets/controls",
            "_model_module_version": "1.5.0",
            "_model_name": "HBoxModel",
            "_view_count": null,
            "_view_module": "@jupyter-widgets/controls",
            "_view_module_version": "1.5.0",
            "_view_name": "HBoxView",
            "box_style": "",
            "children": [
              "IPY_MODEL_d6d9e142e85d44508e8e7cc44f169978",
              "IPY_MODEL_74ef91bdf91943ed889ff0309f781c7f",
              "IPY_MODEL_6468bde83c71474087265bb857f3426f"
            ],
            "layout": "IPY_MODEL_f8f13396417442a5940b0d8ca69f2feb"
          }
        },
        "9053a79e122d4124820bbd07c5ecf2e6": {
          "model_module": "@jupyter-widgets/controls",
          "model_module_version": "1.5.0",
          "model_name": "HTMLModel",
          "state": {
            "_dom_classes": [],
            "_model_module": "@jupyter-widgets/controls",
            "_model_module_version": "1.5.0",
            "_model_name": "HTMLModel",
            "_view_count": null,
            "_view_module": "@jupyter-widgets/controls",
            "_view_module_version": "1.5.0",
            "_view_name": "HTMLView",
            "description": "",
            "description_tooltip": null,
            "layout": "IPY_MODEL_1f03871a87b143e58410e069e4356e77",
            "placeholder": "​",
            "style": "IPY_MODEL_f0fda7f265ea4846b9e71c871b342f26",
            "value": " 615/615 [00:00&lt;00:00, 37.4kB/s]"
          }
        },
        "9d61ec55aafc4d7f9391f118a9f1a024": {
          "model_module": "@jupyter-widgets/base",
          "model_module_version": "1.2.0",
          "model_name": "LayoutModel",
          "state": {
            "_model_module": "@jupyter-widgets/base",
            "_model_module_version": "1.2.0",
            "_model_name": "LayoutModel",
            "_view_count": null,
            "_view_module": "@jupyter-widgets/base",
            "_view_module_version": "1.2.0",
            "_view_name": "LayoutView",
            "align_content": null,
            "align_items": null,
            "align_self": null,
            "border": null,
            "bottom": null,
            "display": null,
            "flex": null,
            "flex_flow": null,
            "grid_area": null,
            "grid_auto_columns": null,
            "grid_auto_flow": null,
            "grid_auto_rows": null,
            "grid_column": null,
            "grid_gap": null,
            "grid_row": null,
            "grid_template_areas": null,
            "grid_template_columns": null,
            "grid_template_rows": null,
            "height": null,
            "justify_content": null,
            "justify_items": null,
            "left": null,
            "margin": null,
            "max_height": null,
            "max_width": null,
            "min_height": null,
            "min_width": null,
            "object_fit": null,
            "object_position": null,
            "order": null,
            "overflow": null,
            "overflow_x": null,
            "overflow_y": null,
            "padding": null,
            "right": null,
            "top": null,
            "visibility": null,
            "width": null
          }
        },
        "aba51022ee1a4272bdb99df72b5f394f": {
          "model_module": "@jupyter-widgets/controls",
          "model_module_version": "1.5.0",
          "model_name": "DescriptionStyleModel",
          "state": {
            "_model_module": "@jupyter-widgets/controls",
            "_model_module_version": "1.5.0",
            "_model_name": "DescriptionStyleModel",
            "_view_count": null,
            "_view_module": "@jupyter-widgets/base",
            "_view_module_version": "1.2.0",
            "_view_name": "StyleView",
            "description_width": ""
          }
        },
        "ac1c67c21d614710a9dc5910ae30edcc": {
          "model_module": "@jupyter-widgets/controls",
          "model_module_version": "1.5.0",
          "model_name": "HBoxModel",
          "state": {
            "_dom_classes": [],
            "_model_module": "@jupyter-widgets/controls",
            "_model_module_version": "1.5.0",
            "_model_name": "HBoxModel",
            "_view_count": null,
            "_view_module": "@jupyter-widgets/controls",
            "_view_module_version": "1.5.0",
            "_view_name": "HBoxView",
            "box_style": "",
            "children": [
              "IPY_MODEL_1105da953c8645958b3dc9175254bf19",
              "IPY_MODEL_f5c0304efb10431ba7ffef5dcf2cd43a",
              "IPY_MODEL_1bad1cb4de254f5f87d60f92242a3084"
            ],
            "layout": "IPY_MODEL_6aa050bfbbd44758b142badf84523c27"
          }
        },
        "acc9e087a4eb4a4a92b345f9498bad85": {
          "model_module": "@jupyter-widgets/controls",
          "model_module_version": "1.5.0",
          "model_name": "DescriptionStyleModel",
          "state": {
            "_model_module": "@jupyter-widgets/controls",
            "_model_module_version": "1.5.0",
            "_model_name": "DescriptionStyleModel",
            "_view_count": null,
            "_view_module": "@jupyter-widgets/base",
            "_view_module_version": "1.2.0",
            "_view_name": "StyleView",
            "description_width": ""
          }
        },
        "bc87b14ee1824c5faedb58221a468822": {
          "model_module": "@jupyter-widgets/base",
          "model_module_version": "1.2.0",
          "model_name": "LayoutModel",
          "state": {
            "_model_module": "@jupyter-widgets/base",
            "_model_module_version": "1.2.0",
            "_model_name": "LayoutModel",
            "_view_count": null,
            "_view_module": "@jupyter-widgets/base",
            "_view_module_version": "1.2.0",
            "_view_name": "LayoutView",
            "align_content": null,
            "align_items": null,
            "align_self": null,
            "border": null,
            "bottom": null,
            "display": null,
            "flex": null,
            "flex_flow": null,
            "grid_area": null,
            "grid_auto_columns": null,
            "grid_auto_flow": null,
            "grid_auto_rows": null,
            "grid_column": null,
            "grid_gap": null,
            "grid_row": null,
            "grid_template_areas": null,
            "grid_template_columns": null,
            "grid_template_rows": null,
            "height": null,
            "justify_content": null,
            "justify_items": null,
            "left": null,
            "margin": null,
            "max_height": null,
            "max_width": null,
            "min_height": null,
            "min_width": null,
            "object_fit": null,
            "object_position": null,
            "order": null,
            "overflow": null,
            "overflow_x": null,
            "overflow_y": null,
            "padding": null,
            "right": null,
            "top": null,
            "visibility": null,
            "width": null
          }
        },
        "c6983ff4d59c4dc4ac55d03d8237e94c": {
          "model_module": "@jupyter-widgets/controls",
          "model_module_version": "1.5.0",
          "model_name": "DescriptionStyleModel",
          "state": {
            "_model_module": "@jupyter-widgets/controls",
            "_model_module_version": "1.5.0",
            "_model_name": "DescriptionStyleModel",
            "_view_count": null,
            "_view_module": "@jupyter-widgets/base",
            "_view_module_version": "1.2.0",
            "_view_name": "StyleView",
            "description_width": ""
          }
        },
        "c9f94e5b13b64685a460dc98a06f9f18": {
          "model_module": "@jupyter-widgets/base",
          "model_module_version": "1.2.0",
          "model_name": "LayoutModel",
          "state": {
            "_model_module": "@jupyter-widgets/base",
            "_model_module_version": "1.2.0",
            "_model_name": "LayoutModel",
            "_view_count": null,
            "_view_module": "@jupyter-widgets/base",
            "_view_module_version": "1.2.0",
            "_view_name": "LayoutView",
            "align_content": null,
            "align_items": null,
            "align_self": null,
            "border": null,
            "bottom": null,
            "display": null,
            "flex": null,
            "flex_flow": null,
            "grid_area": null,
            "grid_auto_columns": null,
            "grid_auto_flow": null,
            "grid_auto_rows": null,
            "grid_column": null,
            "grid_gap": null,
            "grid_row": null,
            "grid_template_areas": null,
            "grid_template_columns": null,
            "grid_template_rows": null,
            "height": null,
            "justify_content": null,
            "justify_items": null,
            "left": null,
            "margin": null,
            "max_height": null,
            "max_width": null,
            "min_height": null,
            "min_width": null,
            "object_fit": null,
            "object_position": null,
            "order": null,
            "overflow": null,
            "overflow_x": null,
            "overflow_y": null,
            "padding": null,
            "right": null,
            "top": null,
            "visibility": null,
            "width": null
          }
        },
        "cacf0f2745f54e7e834badd13dae74b9": {
          "model_module": "@jupyter-widgets/base",
          "model_module_version": "1.2.0",
          "model_name": "LayoutModel",
          "state": {
            "_model_module": "@jupyter-widgets/base",
            "_model_module_version": "1.2.0",
            "_model_name": "LayoutModel",
            "_view_count": null,
            "_view_module": "@jupyter-widgets/base",
            "_view_module_version": "1.2.0",
            "_view_name": "LayoutView",
            "align_content": null,
            "align_items": null,
            "align_self": null,
            "border": null,
            "bottom": null,
            "display": null,
            "flex": null,
            "flex_flow": null,
            "grid_area": null,
            "grid_auto_columns": null,
            "grid_auto_flow": null,
            "grid_auto_rows": null,
            "grid_column": null,
            "grid_gap": null,
            "grid_row": null,
            "grid_template_areas": null,
            "grid_template_columns": null,
            "grid_template_rows": null,
            "height": null,
            "justify_content": null,
            "justify_items": null,
            "left": null,
            "margin": null,
            "max_height": null,
            "max_width": null,
            "min_height": null,
            "min_width": null,
            "object_fit": null,
            "object_position": null,
            "order": null,
            "overflow": null,
            "overflow_x": null,
            "overflow_y": null,
            "padding": null,
            "right": null,
            "top": null,
            "visibility": null,
            "width": null
          }
        },
        "d07669011ac74a6a99a8c822be254e2a": {
          "model_module": "@jupyter-widgets/controls",
          "model_module_version": "1.5.0",
          "model_name": "DescriptionStyleModel",
          "state": {
            "_model_module": "@jupyter-widgets/controls",
            "_model_module_version": "1.5.0",
            "_model_name": "DescriptionStyleModel",
            "_view_count": null,
            "_view_module": "@jupyter-widgets/base",
            "_view_module_version": "1.2.0",
            "_view_name": "StyleView",
            "description_width": ""
          }
        },
        "d6d9e142e85d44508e8e7cc44f169978": {
          "model_module": "@jupyter-widgets/controls",
          "model_module_version": "1.5.0",
          "model_name": "HTMLModel",
          "state": {
            "_dom_classes": [],
            "_model_module": "@jupyter-widgets/controls",
            "_model_module_version": "1.5.0",
            "_model_name": "HTMLModel",
            "_view_count": null,
            "_view_module": "@jupyter-widgets/controls",
            "_view_module_version": "1.5.0",
            "_view_name": "HTMLView",
            "description": "",
            "description_tooltip": null,
            "layout": "IPY_MODEL_df4cb2ac5f3a4134b4fe4e2e936de6ac",
            "placeholder": "​",
            "style": "IPY_MODEL_d07669011ac74a6a99a8c822be254e2a",
            "value": "Downloading: 100%"
          }
        },
        "df4cb2ac5f3a4134b4fe4e2e936de6ac": {
          "model_module": "@jupyter-widgets/base",
          "model_module_version": "1.2.0",
          "model_name": "LayoutModel",
          "state": {
            "_model_module": "@jupyter-widgets/base",
            "_model_module_version": "1.2.0",
            "_model_name": "LayoutModel",
            "_view_count": null,
            "_view_module": "@jupyter-widgets/base",
            "_view_module_version": "1.2.0",
            "_view_name": "LayoutView",
            "align_content": null,
            "align_items": null,
            "align_self": null,
            "border": null,
            "bottom": null,
            "display": null,
            "flex": null,
            "flex_flow": null,
            "grid_area": null,
            "grid_auto_columns": null,
            "grid_auto_flow": null,
            "grid_auto_rows": null,
            "grid_column": null,
            "grid_gap": null,
            "grid_row": null,
            "grid_template_areas": null,
            "grid_template_columns": null,
            "grid_template_rows": null,
            "height": null,
            "justify_content": null,
            "justify_items": null,
            "left": null,
            "margin": null,
            "max_height": null,
            "max_width": null,
            "min_height": null,
            "min_width": null,
            "object_fit": null,
            "object_position": null,
            "order": null,
            "overflow": null,
            "overflow_x": null,
            "overflow_y": null,
            "padding": null,
            "right": null,
            "top": null,
            "visibility": null,
            "width": null
          }
        },
        "e29a6885ad304e9e95dc58492ace52cc": {
          "model_module": "@jupyter-widgets/controls",
          "model_module_version": "1.5.0",
          "model_name": "HTMLModel",
          "state": {
            "_dom_classes": [],
            "_model_module": "@jupyter-widgets/controls",
            "_model_module_version": "1.5.0",
            "_model_name": "HTMLModel",
            "_view_count": null,
            "_view_module": "@jupyter-widgets/controls",
            "_view_module_version": "1.5.0",
            "_view_name": "HTMLView",
            "description": "",
            "description_tooltip": null,
            "layout": "IPY_MODEL_9d61ec55aafc4d7f9391f118a9f1a024",
            "placeholder": "​",
            "style": "IPY_MODEL_c6983ff4d59c4dc4ac55d03d8237e94c",
            "value": "Downloading: 100%"
          }
        },
        "e375b96aa4f845ac99ccfdaa9b549243": {
          "model_module": "@jupyter-widgets/controls",
          "model_module_version": "1.5.0",
          "model_name": "ProgressStyleModel",
          "state": {
            "_model_module": "@jupyter-widgets/controls",
            "_model_module_version": "1.5.0",
            "_model_name": "ProgressStyleModel",
            "_view_count": null,
            "_view_module": "@jupyter-widgets/base",
            "_view_module_version": "1.2.0",
            "_view_name": "StyleView",
            "bar_color": null,
            "description_width": ""
          }
        },
        "f0fda7f265ea4846b9e71c871b342f26": {
          "model_module": "@jupyter-widgets/controls",
          "model_module_version": "1.5.0",
          "model_name": "DescriptionStyleModel",
          "state": {
            "_model_module": "@jupyter-widgets/controls",
            "_model_module_version": "1.5.0",
            "_model_name": "DescriptionStyleModel",
            "_view_count": null,
            "_view_module": "@jupyter-widgets/base",
            "_view_module_version": "1.2.0",
            "_view_name": "StyleView",
            "description_width": ""
          }
        },
        "f5c0304efb10431ba7ffef5dcf2cd43a": {
          "model_module": "@jupyter-widgets/controls",
          "model_module_version": "1.5.0",
          "model_name": "FloatProgressModel",
          "state": {
            "_dom_classes": [],
            "_model_module": "@jupyter-widgets/controls",
            "_model_module_version": "1.5.0",
            "_model_name": "FloatProgressModel",
            "_view_count": null,
            "_view_module": "@jupyter-widgets/controls",
            "_view_module_version": "1.5.0",
            "_view_name": "ProgressView",
            "bar_style": "success",
            "description": "",
            "description_tooltip": null,
            "layout": "IPY_MODEL_cacf0f2745f54e7e834badd13dae74b9",
            "max": 9096718,
            "min": 0,
            "orientation": "horizontal",
            "style": "IPY_MODEL_114de991b01f47f5aa985dc01489b1ea",
            "value": 9096718
          }
        },
        "f8f13396417442a5940b0d8ca69f2feb": {
          "model_module": "@jupyter-widgets/base",
          "model_module_version": "1.2.0",
          "model_name": "LayoutModel",
          "state": {
            "_model_module": "@jupyter-widgets/base",
            "_model_module_version": "1.2.0",
            "_model_name": "LayoutModel",
            "_view_count": null,
            "_view_module": "@jupyter-widgets/base",
            "_view_module_version": "1.2.0",
            "_view_name": "LayoutView",
            "align_content": null,
            "align_items": null,
            "align_self": null,
            "border": null,
            "bottom": null,
            "display": null,
            "flex": null,
            "flex_flow": null,
            "grid_area": null,
            "grid_auto_columns": null,
            "grid_auto_flow": null,
            "grid_auto_rows": null,
            "grid_column": null,
            "grid_gap": null,
            "grid_row": null,
            "grid_template_areas": null,
            "grid_template_columns": null,
            "grid_template_rows": null,
            "height": null,
            "justify_content": null,
            "justify_items": null,
            "left": null,
            "margin": null,
            "max_height": null,
            "max_width": null,
            "min_height": null,
            "min_width": null,
            "object_fit": null,
            "object_position": null,
            "order": null,
            "overflow": null,
            "overflow_x": null,
            "overflow_y": null,
            "padding": null,
            "right": null,
            "top": null,
            "visibility": null,
            "width": null
          }
        },
        "fb192f1cab25499ba0bfff5fee45319f": {
          "model_module": "@jupyter-widgets/base",
          "model_module_version": "1.2.0",
          "model_name": "LayoutModel",
          "state": {
            "_model_module": "@jupyter-widgets/base",
            "_model_module_version": "1.2.0",
            "_model_name": "LayoutModel",
            "_view_count": null,
            "_view_module": "@jupyter-widgets/base",
            "_view_module_version": "1.2.0",
            "_view_name": "LayoutView",
            "align_content": null,
            "align_items": null,
            "align_self": null,
            "border": null,
            "bottom": null,
            "display": null,
            "flex": null,
            "flex_flow": null,
            "grid_area": null,
            "grid_auto_columns": null,
            "grid_auto_flow": null,
            "grid_auto_rows": null,
            "grid_column": null,
            "grid_gap": null,
            "grid_row": null,
            "grid_template_areas": null,
            "grid_template_columns": null,
            "grid_template_rows": null,
            "height": null,
            "justify_content": null,
            "justify_items": null,
            "left": null,
            "margin": null,
            "max_height": null,
            "max_width": null,
            "min_height": null,
            "min_width": null,
            "object_fit": null,
            "object_position": null,
            "order": null,
            "overflow": null,
            "overflow_x": null,
            "overflow_y": null,
            "padding": null,
            "right": null,
            "top": null,
            "visibility": null,
            "width": null
          }
        },
        "fb811c3701814dccaef3ab98e0ea87c2": {
          "model_module": "@jupyter-widgets/controls",
          "model_module_version": "1.5.0",
          "model_name": "HTMLModel",
          "state": {
            "_dom_classes": [],
            "_model_module": "@jupyter-widgets/controls",
            "_model_module_version": "1.5.0",
            "_model_name": "HTMLModel",
            "_view_count": null,
            "_view_module": "@jupyter-widgets/controls",
            "_view_module_version": "1.5.0",
            "_view_name": "HTMLView",
            "description": "",
            "description_tooltip": null,
            "layout": "IPY_MODEL_7df22269c7774980b673c2f9886bdb7e",
            "placeholder": "​",
            "style": "IPY_MODEL_03d1e081bb5a49c49345a9d77411974a",
            "value": " 5.07M/5.07M [00:00&lt;00:00, 8.28MB/s]"
          }
        },
        "ff00da9f7c924591bb9dd77e0a1893e4": {
          "model_module": "@jupyter-widgets/base",
          "model_module_version": "1.2.0",
          "model_name": "LayoutModel",
          "state": {
            "_model_module": "@jupyter-widgets/base",
            "_model_module_version": "1.2.0",
            "_model_name": "LayoutModel",
            "_view_count": null,
            "_view_module": "@jupyter-widgets/base",
            "_view_module_version": "1.2.0",
            "_view_name": "LayoutView",
            "align_content": null,
            "align_items": null,
            "align_self": null,
            "border": null,
            "bottom": null,
            "display": null,
            "flex": null,
            "flex_flow": null,
            "grid_area": null,
            "grid_auto_columns": null,
            "grid_auto_flow": null,
            "grid_auto_rows": null,
            "grid_column": null,
            "grid_gap": null,
            "grid_row": null,
            "grid_template_areas": null,
            "grid_template_columns": null,
            "grid_template_rows": null,
            "height": null,
            "justify_content": null,
            "justify_items": null,
            "left": null,
            "margin": null,
            "max_height": null,
            "max_width": null,
            "min_height": null,
            "min_width": null,
            "object_fit": null,
            "object_position": null,
            "order": null,
            "overflow": null,
            "overflow_x": null,
            "overflow_y": null,
            "padding": null,
            "right": null,
            "top": null,
            "visibility": null,
            "width": null
          }
        }
      }
    }
  },
  "nbformat": 4,
  "nbformat_minor": 0
}
