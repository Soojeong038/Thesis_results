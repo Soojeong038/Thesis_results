{
 "cells": [
  {
   "cell_type": "code",
   "execution_count": 2,
   "id": "d858531c",
   "metadata": {},
   "outputs": [],
   "source": [
    "import os\n",
    "import glob"
   ]
  },
  {
   "cell_type": "code",
   "execution_count": 3,
   "id": "55500dff",
   "metadata": {},
   "outputs": [],
   "source": [
    "#get leaf directories\n",
    "def leaf_folders(file_path):\n",
    "    return [dirpaths for dirpaths, dirnames, filenames in os.walk(file_path) if not dirnames]\n",
    "\n",
    "\n",
    "#get files\n",
    "def files(file_path,extension):\n",
    "    folder_list = leaf_folders(file_path)\n",
    "    files_list = {}\n",
    "    \n",
    "    for i in folder_list:\n",
    "#         time = os.path.basename(i)\n",
    "        os.chdir(i)\n",
    "        files = []\n",
    "        for file in glob.glob(\"*.{}\".format(extension)):\n",
    "            files.append(file)\n",
    "        \n",
    "        files_list.update({i:files})\n",
    "        \n",
    "    return files_list"
   ]
  },
  {
   "cell_type": "code",
   "execution_count": 5,
   "id": "c82ccb3c",
   "metadata": {
    "collapsed": true
   },
   "outputs": [
    {
     "name": "stdout",
     "output_type": "stream",
     "text": [
      "{'C:\\\\Users\\\\sooje\\\\daten\\\\2021\\\\2021_01': ['StRH-I-12-19.docx.rtf.pdf']}\n"
     ]
    }
   ],
   "source": [
    "if __name__ == '__main__':\n",
    "    path = \"C:\\\\Users\\\\sooje\\\\daten\"\n",
    "    files_list = files(path,'pdf')\n",
    "    print(files_list)"
   ]
  }
 ],
 "metadata": {
  "kernelspec": {
   "display_name": "myenv",
   "language": "python",
   "name": "myenv"
  },
  "language_info": {
   "codemirror_mode": {
    "name": "ipython",
    "version": 3
   },
   "file_extension": ".py",
   "mimetype": "text/x-python",
   "name": "python",
   "nbconvert_exporter": "python",
   "pygments_lexer": "ipython3",
   "version": "3.9.12"
  }
 },
 "nbformat": 4,
 "nbformat_minor": 5
}
